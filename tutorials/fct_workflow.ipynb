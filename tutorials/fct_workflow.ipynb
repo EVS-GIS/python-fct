{
 "cells": [
  {
   "cell_type": "markdown",
   "id": "4fbb418a-29f2-4908-b4f2-3232d1a8a35e",
   "metadata": {},
   "source": [
    "# Fluvial corridor workflow"
   ]
  },
  {
   "cell_type": "markdown",
   "id": "58bf2482-1776-458d-ae5d-b6fb457f40a1",
   "metadata": {},
   "source": [
    "## Install GDAL\n",
    "For Windows 10, install GDAL with OSGEO4W\n",
    "\n",
    "[link to installer](https://trac.osgeo.org/osgeo4w/wiki/OSGeo4W_fr)\n",
    "\n",
    "Choose *Express Install* then GDAL.\n",
    "\n",
    "In your user environement variables add C:\\OSGeo4W\\bin to PATH."
   ]
  },
  {
   "cell_type": "markdown",
   "id": "5978cbcb-e7c8-42ad-a16f-393b362954c2",
   "metadata": {},
   "source": [
    "## Set input parameters\n",
    "Create a config.ini file."
   ]
  },
  {
   "cell_type": "raw",
   "id": "1cbc77d0-d048-4e36-9f9f-115fe2597c18",
   "metadata": {},
   "source": [
    "[workspace]\n",
    "\n",
    "    workdir=./path/to/outputs\n",
    "    srs=EPSG:2154\n",
    "\n",
    "[DataSources] ; each datasource are referenced with parameters below\n",
    "\n",
    "    bdalti = BDALTI ; DEM with bigger resolution used to fill no data in finer resolution DEM, tif extent\n",
    "    rgealti = RGEALTI ; reference DEM\n",
    "    sources = SOURCES_BDTOPO ; hydrographic network sources\n",
    "\n",
    "[Tilesets] ; Two overlapping grids are required to tile the calculations. The overlay allows to correct the errors between the junctions of the tiles.\n",
    "    default = 10K_TILESET ; if tileset is define as default the first grid is selected\n",
    "    10k = 10K_TILESET ; first grid\n",
    "    10kbis = 10KBIS_TILESET ; second overlapping grids\n",
    "\n",
    "; \n",
    "; Describe Datasources below wich are reference above in [DataSources] and [Tilesets]\n",
    "; \n",
    "\n",
    "[BDALTI]\n",
    "\n",
    "    type=datasource\n",
    "    data=elevation\n",
    "    filename=./tutorials/dem_to_dgo/inputs/DEM.tif ; relative path to file\n",
    "    resolution=25.0 ; DEM resolution\n",
    "\n",
    "[RGEALTI]\n",
    "\n",
    "    type=datasource\n",
    "    data=elevation\n",
    "    filename=./tutorials/dem_to_dgo/inputs/DEM_5M.tif ; relative path to file\n",
    "    resolution=5.0 ; DEM resolution\n",
    "\n",
    "[SOURCES_BDTOPO]\n",
    "\n",
    "    type = datasource\n",
    "    data = hydrography\n",
    "    filename = ./tutorials/dem_to_dgo/inputs/sources.gpkg ; relative path to file\n",
    "\n",
    "[10K_TILESET]\n",
    "\n",
    "    type=tileset\n",
    "    index=./tutorials/dem_to_dgo/inputs/10k_tileset.gpkg ; relative path to file\n",
    "    height=2000\n",
    "    width=2000\n",
    "    tiledir=10K\n",
    "    resolution=10000.0\n",
    "\n",
    "[10KBIS_TILESET]\n",
    "\n",
    "    type=tileset\n",
    "    index=./tutorials/dem_to_dgo/inputs/10kbis_tileset.gpkg ; relative path to file\n",
    "    height=2000\n",
    "    width=2000\n",
    "    tiledir=10KBIS\n",
    "    resolution=10000.0"
   ]
  },
  {
   "cell_type": "markdown",
   "id": "5519508a-5b45-466d-8a10-7224f463e113",
   "metadata": {},
   "source": [
    "The outputs folder and name are generate  automatically.\n",
    "They are define in yml files in the config/datasets folder"
   ]
  },
  {
   "cell_type": "markdown",
   "id": "e08bbcbe-4c00-405e-acfd-393a6fe86597",
   "metadata": {},
   "source": [
    "Activate the virtual environement in shell from the python-fct folder."
   ]
  },
  {
   "cell_type": "raw",
   "id": "fb013acf-7fd6-43a2-be67-c7725a87f4d7",
   "metadata": {},
   "source": [
    "./env/Scripts/activate"
   ]
  },
  {
   "cell_type": "markdown",
   "id": "2400d7ef-4561-4c74-8b24-c9388cf9f66b",
   "metadata": {},
   "source": [
    "The initial DEM (RGEALTI) is splited into tiles with 10K_TILESET and 10KBIS_TILESET with this shell commands."
   ]
  },
  {
   "cell_type": "raw",
   "id": "5dc9f33c-4142-4ef3-8b87-e7a9f7ebf5f2",
   "metadata": {},
   "source": [
    "fct-tiles -c ./tutorials/dem_to_dgo/config.ini extract bdalti 10k dem\n",
    "fct-tiles -c ./tutorials/dem_to_dgo/config.ini extract bdalti 10kbis dem"
   ]
  },
  {
   "cell_type": "markdown",
   "id": "747d9757-d5b7-47a3-86ae-d7b66f9e4251",
   "metadata": {},
   "source": [
    "Build virtual raster from the tiled DEM created."
   ]
  },
  {
   "cell_type": "raw",
   "id": "a5af40d9-85fb-40d7-8bfa-6aca02729b81",
   "metadata": {},
   "source": [
    "fct-tiles -c ./tutorials/dem_to_dgo/config.ini buildvrt 10k dem\n",
    "fct-tiles -c ./tutorials/dem_to_dgo/config.ini buildvrt 10kbis dem"
   ]
  },
  {
   "cell_type": "code",
   "execution_count": null,
   "id": "dca46663-b3d6-4da5-960e-2c4fc70ce4d2",
   "metadata": {},
   "outputs": [],
   "source": []
  }
 ],
 "metadata": {
  "kernelspec": {
   "display_name": "Python 3 (ipykernel)",
   "language": "python",
   "name": "python3"
  },
  "language_info": {
   "codemirror_mode": {
    "name": "ipython",
    "version": 3
   },
   "file_extension": ".py",
   "mimetype": "text/x-python",
   "name": "python",
   "nbconvert_exporter": "python",
   "pygments_lexer": "ipython3",
   "version": "3.8.10"
  }
 },
 "nbformat": 4,
 "nbformat_minor": 5
}
