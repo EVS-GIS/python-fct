{
 "cells": [
  {
   "cell_type": "markdown",
   "id": "4fbb418a-29f2-4908-b4f2-3232d1a8a35e",
   "metadata": {},
   "source": [
    "# Fluvial corridor workflow"
   ]
  },
  {
   "cell_type": "markdown",
   "id": "58bf2482-1776-458d-ae5d-b6fb457f40a1",
   "metadata": {},
   "source": [
    "## Install GDAL\n",
    "For Windows 10, install GDAL with OSGEO4W\n",
    "\n",
    "[link to installer](https://trac.osgeo.org/osgeo4w/wiki/OSGeo4W_fr)\n",
    "\n",
    "Choose *Express Install* then GDAL.\n",
    "\n",
    "In your user environement variables add C:\\OSGeo4W\\bin to PATH."
   ]
  },
  {
   "cell_type": "code",
   "execution_count": 1,
   "id": "bd6adb5c-9793-4648-af43-5dc8886c89d4",
   "metadata": {
    "tags": []
   },
   "outputs": [],
   "source": [
    "# change working directory to root package python-fct\n",
    "import os\n",
    "os.chdir(os.path.dirname(os.getcwd()))"
   ]
  },
  {
   "cell_type": "markdown",
   "id": "5978cbcb-e7c8-42ad-a16f-393b362954c2",
   "metadata": {},
   "source": [
    "## Set input parameters\n",
    "Create a config.ini file."
   ]
  },
  {
   "cell_type": "raw",
   "id": "1cbc77d0-d048-4e36-9f9f-115fe2597c18",
   "metadata": {},
   "source": [
    "[workspace]\n",
    "\n",
    "    workdir=./path/to/outputs\n",
    "    srs=EPSG:2154\n",
    "\n",
    "[DataSources] ; each datasource are referenced with parameters below\n",
    "\n",
    "    bdalti = BDALTI ; DEM with bigger resolution used to fill no data in finer resolution DEM, tif extent\n",
    "    rgealti = RGEALTI ; reference DEM\n",
    "    sources = SOURCES_BDTOPO ; hydrographic network sources\n",
    "\n",
    "[Tilesets] ; Two overlapping grids are required to tile the calculations. The overlay allows to correct the errors between the junctions of the tiles.\n",
    "    default = 10K_TILESET ; if tileset is define as default the first grid is selected\n",
    "    10k = 10K_TILESET ; first grid\n",
    "    10kbis = 10KBIS_TILESET ; second overlapping grids\n",
    "\n",
    "; \n",
    "; Describe Datasources below wich are reference above in [DataSources] and [Tilesets]\n",
    "; \n",
    "\n",
    "[BDALTI]\n",
    "\n",
    "    type=datasource\n",
    "    data=elevation\n",
    "    filename=./tutorials/dem_to_dgo/inputs/DEM.tif ; relative path to file\n",
    "    resolution=25.0 ; DEM resolution\n",
    "\n",
    "[RGEALTI]\n",
    "\n",
    "    type=datasource\n",
    "    data=elevation\n",
    "    filename=./tutorials/dem_to_dgo/inputs/DEM_5M.tif ; relative path to file\n",
    "    resolution=5.0 ; DEM resolution\n",
    "\n",
    "[SOURCES_BDTOPO]\n",
    "\n",
    "    type = datasource\n",
    "    data = hydrography\n",
    "    filename = ./tutorials/dem_to_dgo/inputs/sources.gpkg ; relative path to file\n",
    "\n",
    "[10K_TILESET]\n",
    "\n",
    "    type=tileset\n",
    "    index=./tutorials/dem_to_dgo/inputs/10k_tileset.gpkg ; relative path to file\n",
    "    height=2000\n",
    "    width=2000\n",
    "    tiledir=10K\n",
    "    resolution=10000.0\n",
    "\n",
    "[10KBIS_TILESET]\n",
    "\n",
    "    type=tileset\n",
    "    index=./tutorials/dem_to_dgo/inputs/10kbis_tileset.gpkg ; relative path to file\n",
    "    height=2000\n",
    "    width=2000\n",
    "    tiledir=10KBIS\n",
    "    resolution=10000.0"
   ]
  },
  {
   "cell_type": "markdown",
   "id": "5519508a-5b45-466d-8a10-7224f463e113",
   "metadata": {},
   "source": [
    "The outputs folder and name are generate  automatically.\n",
    "They are define in yml files in the config/datasets folder or by tiledir attributes in config.ini section."
   ]
  },
  {
   "cell_type": "markdown",
   "id": "e08bbcbe-4c00-405e-acfd-393a6fe86597",
   "metadata": {},
   "source": [
    "Activate the virtual environement in shell from the python-fct folder."
   ]
  },
  {
   "cell_type": "raw",
   "id": "fb013acf-7fd6-43a2-be67-c7725a87f4d7",
   "metadata": {},
   "source": [
    "./env/Scripts/activate"
   ]
  },
  {
   "cell_type": "markdown",
   "id": "2400d7ef-4561-4c74-8b24-c9388cf9f66b",
   "metadata": {},
   "source": [
    "The initial DEM (RGEALTI) is splited into tiles with 10K_TILESET and 10KBIS_TILESET with this shell commands.\n",
    "\n",
    "fct-tiles call shell FileCommand.py and TileCommand.py\n",
    "Arguments :\n",
    "- config.ini = path to config.ini with input path and parameters\n",
    "- extract = Extract Tiles from Datasource for tiles defined in Tileset, and store as Dataset. Function TileCommand.py/extract/Tiles.py/DatasourceToTiles\n",
    "- bdalti = input define in config.ini\n",
    "- 10k = input tile grid define in config.ini\n",
    "- dem = output file define in config/datasets/drainage.yml"
   ]
  },
  {
   "cell_type": "raw",
   "id": "5dc9f33c-4142-4ef3-8b87-e7a9f7ebf5f2",
   "metadata": {},
   "source": [
    "fct-tiles -c ./tutorials/dem_to_dgo/config.ini extract bdalti 10k dem\n",
    "fct-tiles -c ./tutorials/dem_to_dgo/config.ini extract bdalti 10kbis dem"
   ]
  },
  {
   "cell_type": "markdown",
   "id": "747d9757-d5b7-47a3-86ae-d7b66f9e4251",
   "metadata": {},
   "source": [
    "Build virtual raster from the tiled previously created.\n",
    "\n",
    "Arguments :\n",
    "- config.ini = path to config.ini with input path and parameters\n",
    "- buildvrt = Build GDAL Virtual Raster from tile dataset. Function TileCommand.py/vrt/tileio.py/buildvrt\n",
    "- 10k = input tile grid define in config.ini\n",
    "- dem = output file define in config/datasets/drainage.yml"
   ]
  },
  {
   "cell_type": "raw",
   "id": "a5af40d9-85fb-40d7-8bfa-6aca02729b81",
   "metadata": {},
   "source": [
    "fct-tiles -c ./tutorials/dem_to_dgo/config.ini buildvrt 10k dem\n",
    "fct-tiles -c ./tutorials/dem_to_dgo/config.ini buildvrt 10kbis dem"
   ]
  },
  {
   "cell_type": "markdown",
   "id": "51e18449-53eb-4566-8642-1257cda35a4a",
   "metadata": {},
   "source": [
    "If you have two different scales DEM, you can fill the precise one with the less precise\n",
    "A faire en amont du lissage?"
   ]
  },
  {
   "cell_type": "markdown",
   "id": "179fbb82-33af-4a97-a0d6-044e9c22a637",
   "metadata": {},
   "source": [
    "## Create a drainage networks\n",
    "### DEM preparation\n",
    "#### create configuration file"
   ]
  },
  {
   "cell_type": "code",
   "execution_count": 2,
   "id": "09eda1fa-4f54-4427-b078-6734ff19fdee",
   "metadata": {
    "tags": []
   },
   "outputs": [],
   "source": [
    "from fct.drainage import PrepareDEM\n",
    "# load the config.ini file with relative path\n",
    "PrepareDEM.config.from_file('./tutorials/dem_to_dgo/config.ini')"
   ]
  },
  {
   "cell_type": "markdown",
   "id": "1dc64e06-03dd-413b-a2c0-ac6c6bbb0007",
   "metadata": {},
   "source": [
    "PrepareDEM.config gather all the input and output parameters\n",
    "input are defined in config.ini\n",
    "output are define in .yml files in config/datasets\n",
    "PrepareDEM.config have 3 dictionnaries\n",
    "- _tilesets for raster tiles\n",
    "- _datasources for input files\n",
    "- _datasets for output destination files with parameters"
   ]
  },
  {
   "cell_type": "code",
   "execution_count": 3,
   "id": "8efae515-4823-4762-8026-e64b75fcf4ae",
   "metadata": {
    "tags": []
   },
   "outputs": [],
   "source": [
    "# uncomment below to see configuration definition and function\n",
    "# help(PrepareDEM.config)"
   ]
  },
  {
   "cell_type": "code",
   "execution_count": 4,
   "id": "7f29cda8-7126-4ac3-99c1-c447e3d46b0a",
   "metadata": {
    "tags": []
   },
   "outputs": [],
   "source": [
    "# uncomment code below to print all parameters from the config class\n",
    "# vars(PrepareDEM.config)\n",
    "# example : get all data sources from the config class\n",
    "# PrepareDEM.config._datasources"
   ]
  },
  {
   "cell_type": "markdown",
   "id": "0d1269b8-4478-4a8d-9cbd-2b5644cb6754",
   "metadata": {},
   "source": [
    "#### DEM smoothing"
   ]
  },
  {
   "cell_type": "code",
   "execution_count": 5,
   "id": "5d864289-906f-4c67-b6a1-7025bc48d551",
   "metadata": {
    "tags": []
   },
   "outputs": [],
   "source": [
    "# Prepare the smoothing parameter\n",
    "params = PrepareDEM.SmoothingParameters()"
   ]
  },
  {
   "cell_type": "markdown",
   "id": "48456de2-668e-4362-85b9-9ed43b06114b",
   "metadata": {},
   "source": [
    "smoothing parameters : \n",
    "- elevations = input\n",
    "- output = output smoothed dem\n",
    "- window = smoothing window"
   ]
  },
  {
   "cell_type": "code",
   "execution_count": 6,
   "id": "6f41b747-82c6-4cf0-aef6-ad8f511d0fd9",
   "metadata": {},
   "outputs": [],
   "source": [
    "# uncomment below to print default smoothing parameter"
   ]
  },
  {
   "cell_type": "code",
   "execution_count": 7,
   "id": "7260c118-6d2b-4068-8686-f2fe418ce2f0",
   "metadata": {
    "tags": []
   },
   "outputs": [],
   "source": [
    "# uncoment below to get input path \n",
    "# params.elevations.filename()"
   ]
  },
  {
   "cell_type": "code",
   "execution_count": 8,
   "id": "d212bf86-b110-4bb2-a002-e65348c4c175",
   "metadata": {
    "tags": []
   },
   "outputs": [],
   "source": [
    "# change window size\n",
    "params.window=25"
   ]
  },
  {
   "cell_type": "code",
   "execution_count": 9,
   "id": "53f3fefd-6dc4-42a0-918f-81ab41e7d364",
   "metadata": {
    "tags": []
   },
   "outputs": [],
   "source": [
    "# uncomment below to print new parameters\n",
    "# params.__dict__.items()"
   ]
  },
  {
   "cell_type": "code",
   "execution_count": 10,
   "id": "f6ce6671-2282-4474-8a1f-a6fd2207881a",
   "metadata": {
    "tags": []
   },
   "outputs": [],
   "source": [
    "# Mean filter for each tile of the tileset\n",
    "for tile in PrepareDEM.config.tileset().tiles():\n",
    "    PrepareDEM.MeanFilter(row=tile.row, col=tile.col, params=params)"
   ]
  },
  {
   "cell_type": "code",
   "execution_count": 11,
   "id": "764ab41e-ed90-4b36-bb80-663a2c296cdd",
   "metadata": {
    "tags": []
   },
   "outputs": [],
   "source": [
    "# uncomment below to see an example of the the output tile path\n",
    "# params.output.tilename(row=1, col=1)"
   ]
  },
  {
   "cell_type": "markdown",
   "id": "da61279d-39a5-4c88-8f9a-c28750e11386",
   "metadata": {},
   "source": [
    "Create virtual raster from tiles in shell (optional)"
   ]
  },
  {
   "cell_type": "raw",
   "id": "20bd5d5d-c99c-44b5-a3c3-c8aa98b2a4a1",
   "metadata": {},
   "source": [
    "fct-tiles -c ./tutorials/dem_to_dgo/config.ini buildvrt 10k smoothed"
   ]
  },
  {
   "cell_type": "markdown",
   "id": "8a3ad78a-a6a3-43d9-aad7-4d5dc19c99db",
   "metadata": {},
   "source": [
    "#### Fill sink"
   ]
  },
  {
   "cell_type": "code",
   "execution_count": 12,
   "id": "b8173c83-55b2-44cd-a2c5-1bd7e4c9879b",
   "metadata": {
    "tags": []
   },
   "outputs": [],
   "source": [
    "# import package and config\n",
    "from fct.drainage import DepressionFill\n",
    "DepressionFill.config.from_file('./tutorials/dem_to_dgo/config.ini')\n",
    "\n",
    "# Pourquoi recréer le fichier de configuration???"
   ]
  },
  {
   "cell_type": "code",
   "execution_count": 13,
   "id": "41b90456-3531-4cb4-957f-79940f4c2136",
   "metadata": {
    "tags": []
   },
   "outputs": [],
   "source": [
    "# set parameters\n",
    "params = DepressionFill.Parameters()"
   ]
  },
  {
   "cell_type": "markdown",
   "id": "a0d48525-fe5b-484d-aed7-0a498573c1c9",
   "metadata": {},
   "source": [
    "DepressionFill parameters :\n",
    "\n",
    "- _elevations = input\n",
    "- _hydrography = Stream network derived from cartography draped on DEM **a quoi ça sert??**\n",
    "- _filled = output filled DEM tiles define in yml. DEM tiles, depression filling procedure, first pass: individual tile processing\n",
    "- _labels = output watershed label raster tiles define in yml. Watershed labels (depression filling procedure)\n",
    "- _graph = output watershed graph define in yml. Cross-tile watershed connection graph (depression filling procedure)\n",
    "- _spillover = output watershed spillover define in yml. Tile spillovers, z resolution of dem-watershed-graph (depression filling procedure)\n",
    "- _resolved = output final filled DEM tiles define in yml. DEM tiles, depression filling procedure, second pass: cross-tile resolution based on spillover graph\n",
    "- _offset = ?\n",
    "- _exterior_data = ?"
   ]
  },
  {
   "cell_type": "code",
   "execution_count": 14,
   "id": "8e262f06-6dbc-4aca-949b-817a131babde",
   "metadata": {
    "tags": []
   },
   "outputs": [
    {
     "data": {
      "text/plain": [
       "dict_items([('_elevations', 'dem'), ('_hydrography', 'stream-network-draped'), ('_filled', 'dem-filled'), ('_labels', 'dem-watershed-labels'), ('_graph', 'dem-watershed-graph'), ('_spillover', 'dem-watershed-spillover'), ('_resolved', 'dem-filled-resolved'), ('_offset', -1.0), ('_exterior_data', 9000.0)])"
      ]
     },
     "execution_count": 14,
     "metadata": {},
     "output_type": "execute_result"
    }
   ],
   "source": [
    "# uncomment below to show default parameters\n",
    "params.__dict__.items()"
   ]
  },
  {
   "cell_type": "code",
   "execution_count": 15,
   "id": "af80ae40-38a6-46b2-9f61-50ebe7f924ab",
   "metadata": {},
   "outputs": [],
   "source": [
    "# change default parameters\n",
    "params.elevations = 'smoothed'\n",
    "params.exterior_data = 0.0"
   ]
  },
  {
   "cell_type": "code",
   "execution_count": 16,
   "id": "da4eba37-2e34-411c-bbe6-f06517ed8b4a",
   "metadata": {},
   "outputs": [
    {
     "name": "stderr",
     "output_type": "stream",
     "text": [
      "C:\\Users\\lmanie01\\Documents\\Gitlab\\python-fct\\fct\\drainage\\DepressionFill.py:162: VisibleDeprecationWarning: Creating an ndarray from ragged nested sequences (which is a list-or-tuple of lists-or-tuples-or ndarrays with different lengths or shapes) is deprecated. If you meant to do this, you must specify 'dtype=object' when creating the ndarray.\n",
      "  z=np.array([\n",
      "C:\\Users\\lmanie01\\Documents\\Gitlab\\python-fct\\fct\\drainage\\DepressionFill.py:167: VisibleDeprecationWarning: Creating an ndarray from ragged nested sequences (which is a list-or-tuple of lists-or-tuples-or ndarrays with different lengths or shapes) is deprecated. If you meant to do this, you must specify 'dtype=object' when creating the ndarray.\n",
      "  labels=np.array([\n"
     ]
    }
   ],
   "source": [
    "# label watershed\n",
    "for tile in DepressionFill.config.tileset().tiles():\n",
    "    DepressionFill.LabelWatersheds(row=tile.row, col=tile.col, params=params, overwrite=True)"
   ]
  },
  {
   "cell_type": "code",
   "execution_count": 17,
   "id": "e3590473-278f-49c9-9217-b831e79079e7",
   "metadata": {
    "tags": []
   },
   "outputs": [
    {
     "data": {
      "text/plain": [
       "WindowsPath('tutorials/dem_to_dgo/outputs/GLOBAL/DEM/10K/WATERSHED_LABELS/WATERSHED_LABELS_01_01.tif')"
      ]
     },
     "execution_count": 17,
     "metadata": {},
     "output_type": "execute_result"
    }
   ],
   "source": [
    "params.labels.tilename(row=1, col=1)"
   ]
  },
  {
   "cell_type": "code",
   "execution_count": 18,
   "id": "12da5bf2-89f5-48e6-ab04-a83490e4d763",
   "metadata": {
    "tags": []
   },
   "outputs": [
    {
     "data": {
      "text/plain": [
       "dict_items([('_elevations', 'smoothed'), ('_hydrography', 'stream-network-draped'), ('_filled', 'dem-filled'), ('_labels', 'dem-watershed-labels'), ('_graph', 'dem-watershed-graph'), ('_spillover', 'dem-watershed-spillover'), ('_resolved', 'dem-filled-resolved'), ('_offset', -1.0), ('_exterior_data', 0.0)])"
      ]
     },
     "execution_count": 18,
     "metadata": {},
     "output_type": "execute_result"
    }
   ],
   "source": [
    "params.__dict__.items()"
   ]
  },
  {
   "cell_type": "code",
   "execution_count": null,
   "id": "579c1f1b-4ba2-460f-a310-a08fff3debee",
   "metadata": {},
   "outputs": [],
   "source": []
  }
 ],
 "metadata": {
  "kernelspec": {
   "display_name": "Python 3 (ipykernel)",
   "language": "python",
   "name": "python3"
  },
  "language_info": {
   "codemirror_mode": {
    "name": "ipython",
    "version": 3
   },
   "file_extension": ".py",
   "mimetype": "text/x-python",
   "name": "python",
   "nbconvert_exporter": "python",
   "pygments_lexer": "ipython3",
   "version": "3.8.10"
  }
 },
 "nbformat": 4,
 "nbformat_minor": 5
}
