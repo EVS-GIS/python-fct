{
 "cells": [
  {
   "cell_type": "markdown",
   "id": "4fbb418a-29f2-4908-b4f2-3232d1a8a35e",
   "metadata": {},
   "source": [
    "# Fluvial corridor workflow"
   ]
  },
  {
   "cell_type": "code",
   "execution_count": null,
   "id": "e6fb612f-051e-41e2-9ed4-e945a25cdca2",
   "metadata": {},
   "outputs": [],
   "source": [
    "## Install GDAL\n",
    "For Windows 10, install GDAL with OSGEO4W\n",
    "\n",
    "[link to installer](https://trac.osgeo.org/osgeo4w/wiki/OSGeo4W_fr)\n",
    "\n",
    "Choose *Express Install* then GDAL.\n",
    "\n",
    "In your user environement variables add C:\\OSGeo4W\\bin to PATH."
   ]
  },
  {
   "cell_type": "markdown",
   "id": "5978cbcb-e7c8-42ad-a16f-393b362954c2",
   "metadata": {},
   "source": [
    "## Set input parameters\n",
    "Create a config.ini file."
   ]
  },
  {
   "cell_type": "raw",
   "id": "1cbc77d0-d048-4e36-9f9f-115fe2597c18",
   "metadata": {},
   "source": [
    "[workspace]\n",
    "\n",
    "    workdir=./path/to/outputs\n",
    "    srs=EPSG:2154\n",
    "\n",
    "[DataSources] ; each datasource are referenced with parameters below\n",
    "\n",
    "    bdalti = BDALTI ; DEM with bigger resolution used to fill no data in finer resolution DEM, tif extent\n",
    "    rgealti = RGEALTI ; reference DEM\n",
    "    sources = SOURCES_BDTOPO ; hydrographic network sources\n",
    "\n",
    "[Tilesets] ; Two overlapping grids are required to tile the calculations. The overlay allows to correct the errors between the junctions of the tiles.\n",
    "    default = 10K_TILESET ; if tileset is define as default the first grid is selected\n",
    "    10k = 10K_TILESET ; first grid\n",
    "    10kbis = 10KBIS_TILESET ; second overlapping grids\n",
    "\n",
    "; \n",
    "; Describe Datasources below wich are reference above in [DataSources] and [Tilesets]\n",
    "; \n",
    "\n",
    "[BDALTI]\n",
    "\n",
    "    type=datasource\n",
    "    data=elevation\n",
    "    filename=./tutorials/dem_to_dgo/inputs/DEM.tif ; relative path to file\n",
    "    resolution=25.0 ; DEM resolution\n",
    "\n",
    "[RGEALTI]\n",
    "\n",
    "    type=datasource\n",
    "    data=elevation\n",
    "    filename=./tutorials/dem_to_dgo/inputs/DEM_5M.tif ; relative path to file\n",
    "    resolution=5.0 ; DEM resolution\n",
    "\n",
    "[SOURCES_BDTOPO]\n",
    "\n",
    "    type = datasource\n",
    "    data = hydrography\n",
    "    filename = ./tutorials/dem_to_dgo/inputs/sources.gpkg ; relative path to file\n",
    "\n",
    "[10K_TILESET]\n",
    "\n",
    "    type=tileset\n",
    "    index=./tutorials/dem_to_dgo/inputs/10k_tileset.gpkg ; relative path to file\n",
    "    height=2000\n",
    "    width=2000\n",
    "    tiledir=10K\n",
    "    resolution=10000.0\n",
    "\n",
    "[10KBIS_TILESET]\n",
    "\n",
    "    type=tileset\n",
    "    index=./tutorials/dem_to_dgo/inputs/10kbis_tileset.gpkg ; relative path to file\n",
    "    height=2000\n",
    "    width=2000\n",
    "    tiledir=10KBIS\n",
    "    resolution=10000.0"
   ]
  },
  {
   "cell_type": "markdown",
   "id": "6782ec31-ac5b-4c6e-a08d-23d07f9f7f10",
   "metadata": {},
   "source": [
    "Create a .env text file in 01-drainage_plan with\n",
    "FCT_CONFIG=./config.ini"
   ]
  },
  {
   "cell_type": "markdown",
   "id": "5519508a-5b45-466d-8a10-7224f463e113",
   "metadata": {},
   "source": [
    "The outputs folder and name are generate  automatically.\n",
    "They are define in yml files in the config/datasets folder or by tiledir attributes in config.ini section."
   ]
  },
  {
   "cell_type": "markdown",
   "id": "e08bbcbe-4c00-405e-acfd-393a6fe86597",
   "metadata": {},
   "source": [
    "Activate the virtual environement in shell from the python-fct folder."
   ]
  },
  {
   "cell_type": "raw",
   "id": "fb013acf-7fd6-43a2-be67-c7725a87f4d7",
   "metadata": {},
   "source": [
    "./env/Scripts/activate"
   ]
  },
  {
   "cell_type": "markdown",
   "id": "2400d7ef-4561-4c74-8b24-c9388cf9f66b",
   "metadata": {},
   "source": [
    "The initial DEM (RGEALTI) is splited into tiles with 10K_TILESET and 10KBIS_TILESET with this shell commands.\n",
    "\n",
    "fct-tiles call shell FileCommand.py and TileCommand.py\n",
    "Arguments :\n",
    "- config.ini = path to config.ini with input path and parameters\n",
    "- extract = Extract Tiles from Datasource for tiles defined in Tileset, and store as Dataset. Function TileCommand.py/extract/Tiles.py/DatasourceToTiles\n",
    "- bdalti = input define in config.ini\n",
    "- 10k = input tile grid define in config.ini\n",
    "- dem = output file define in config/datasets/drainage.yml"
   ]
  },
  {
   "cell_type": "code",
   "execution_count": 1,
   "id": "a1fbe6f1-3836-4199-8ee1-73c4b918a361",
   "metadata": {
    "tags": []
   },
   "outputs": [
    {
     "name": "stdout",
     "output_type": "stream",
     "text": [
      "FCT_CONFIG=./config.ini\n",
      "Read configuration from ./config.ini\n",
      "Environment from C:\\Users\\lmanie01\\Documents\\Gitlab\\python-fct\\tutorials\\01-drainage_plan\\.env\n",
      "\n",
      "FCT_CONFIG=./config.ini\n",
      "FCT_CONFIG=./config.ini\n",
      "Read configuration from ./config.ini\n",
      "Environment from C:\\Users\\lmanie01\\Documents\\Gitlab\\python-fct\\tutorials\\01-drainage_plan\\.env\n",
      "\n",
      "FCT_CONFIG=./config.ini\n"
     ]
    }
   ],
   "source": [
    "! fct-tiles -c ./config.ini extract bdalti 10k dem\n",
    "! fct-tiles -c ./config.ini extract bdalti 10kbis dem"
   ]
  },
  {
   "cell_type": "markdown",
   "id": "747d9757-d5b7-47a3-86ae-d7b66f9e4251",
   "metadata": {},
   "source": [
    "Build virtual raster from the tiled previously created.\n",
    "\n",
    "Arguments :\n",
    "- config.ini = path to config.ini with input path and parameters\n",
    "- buildvrt = Build GDAL Virtual Raster from tile dataset. Function TileCommand.py/vrt/tileio.py/buildvrt\n",
    "- 10k = input tile grid define in config.ini\n",
    "- dem = output file define in config/datasets/drainage.yml"
   ]
  },
  {
   "cell_type": "code",
   "execution_count": 2,
   "id": "725a807e-9abc-4dfe-a8ac-c4826340c4e2",
   "metadata": {
    "tags": []
   },
   "outputs": [
    {
     "name": "stdout",
     "output_type": "stream",
     "text": [
      "FCT_CONFIG=./config.ini\n",
      "Read configuration from ./config.ini\n",
      "Environment from C:\\Users\\lmanie01\\Documents\\Gitlab\\python-fct\\tutorials\\01-drainage_plan\\.env\n",
      "0...10...20...30...40...50...60...70...80...90...100 - done.\n",
      "FCT_CONFIG=./config.ini\n",
      "Read configuration from ./config.ini\n",
      "Environment from C:\\Users\\lmanie01\\Documents\\Gitlab\\python-fct\\tutorials\\01-drainage_plan\\.env\n",
      "0...10...20...30...40...50...60...70...80...90...100 - done.\n"
     ]
    }
   ],
   "source": [
    "! fct-tiles -c ./config.ini buildvrt 10k dem\n",
    "! fct-tiles -c ./config.ini buildvrt 10kbis dem"
   ]
  },
  {
   "cell_type": "markdown",
   "id": "51e18449-53eb-4566-8642-1257cda35a4a",
   "metadata": {},
   "source": [
    "If you have two different scales DEM, you can fill the precise one with the less precise\n",
    "A faire en amont du lissage?"
   ]
  },
  {
   "cell_type": "markdown",
   "id": "179fbb82-33af-4a97-a0d6-044e9c22a637",
   "metadata": {},
   "source": [
    "## Create a drainage networks\n",
    "### DEM preparation\n",
    "#### create configuration file"
   ]
  },
  {
   "cell_type": "code",
   "execution_count": 3,
   "id": "09eda1fa-4f54-4427-b078-6734ff19fdee",
   "metadata": {
    "tags": []
   },
   "outputs": [
    {
     "name": "stdout",
     "output_type": "stream",
     "text": [
      "\u001b[33mFCT_CONFIG=./config.ini\u001b[0m\n"
     ]
    }
   ],
   "source": [
    "from fct.drainage import PrepareDEM\n",
    "# the confi.ini file is load from the .env text file"
   ]
  },
  {
   "cell_type": "markdown",
   "id": "1dc64e06-03dd-413b-a2c0-ac6c6bbb0007",
   "metadata": {},
   "source": [
    "PrepareDEM.config gather all the input and output parameters\n",
    "input are defined in config.ini\n",
    "output are define in .yml files in config/datasets\n",
    "PrepareDEM.config have 3 dictionnaries\n",
    "- _tilesets for raster tiles\n",
    "- _datasources for input files\n",
    "- _datasets for output destination files with parameters"
   ]
  },
  {
   "cell_type": "code",
   "execution_count": 16,
   "id": "8efae515-4823-4762-8026-e64b75fcf4ae",
   "metadata": {
    "tags": []
   },
   "outputs": [],
   "source": [
    "# uncomment below to see configuration definition and function\n",
    "# help(PrepareDEM.config)"
   ]
  },
  {
   "cell_type": "code",
   "execution_count": 19,
   "id": "7f29cda8-7126-4ac3-99c1-c447e3d46b0a",
   "metadata": {
    "tags": []
   },
   "outputs": [],
   "source": [
    "# uncomment code below to print all parameters from the config class\n",
    "# vars(PrepareDEM.config)\n",
    "# example : get all data sources from the config class\n",
    "# PrepareDEM.config._datasources"
   ]
  },
  {
   "cell_type": "markdown",
   "id": "0d1269b8-4478-4a8d-9cbd-2b5644cb6754",
   "metadata": {},
   "source": [
    "#### DEM smoothing"
   ]
  },
  {
   "cell_type": "code",
   "execution_count": 4,
   "id": "5d864289-906f-4c67-b6a1-7025bc48d551",
   "metadata": {
    "tags": []
   },
   "outputs": [],
   "source": [
    "# Prepare the smoothing parameter\n",
    "params = PrepareDEM.SmoothingParameters()"
   ]
  },
  {
   "cell_type": "markdown",
   "id": "48456de2-668e-4362-85b9-9ed43b06114b",
   "metadata": {},
   "source": [
    "smoothing parameters : \n",
    "- elevations = input\n",
    "- output = output smoothed dem\n",
    "- window = smoothing window"
   ]
  },
  {
   "cell_type": "code",
   "execution_count": 6,
   "id": "6f41b747-82c6-4cf0-aef6-ad8f511d0fd9",
   "metadata": {},
   "outputs": [],
   "source": [
    "# uncomment below to print default smoothing parameter"
   ]
  },
  {
   "cell_type": "code",
   "execution_count": 7,
   "id": "7260c118-6d2b-4068-8686-f2fe418ce2f0",
   "metadata": {
    "tags": []
   },
   "outputs": [],
   "source": [
    "# uncoment below to get input path \n",
    "# params.elevations.filename()"
   ]
  },
  {
   "cell_type": "code",
   "execution_count": 5,
   "id": "d212bf86-b110-4bb2-a002-e65348c4c175",
   "metadata": {
    "tags": []
   },
   "outputs": [],
   "source": [
    "# change window size\n",
    "params.window=2"
   ]
  },
  {
   "cell_type": "code",
   "execution_count": 9,
   "id": "53f3fefd-6dc4-42a0-918f-81ab41e7d364",
   "metadata": {
    "tags": []
   },
   "outputs": [],
   "source": [
    "# uncomment below to print new parameters\n",
    "# params.__dict__.items()"
   ]
  },
  {
   "cell_type": "code",
   "execution_count": 6,
   "id": "f6ce6671-2282-4474-8a1f-a6fd2207881a",
   "metadata": {
    "tags": []
   },
   "outputs": [
    {
     "name": "stdout",
     "output_type": "stream",
     "text": [
      "\n",
      "\n"
     ]
    }
   ],
   "source": [
    "# Mean filter for each tile of the tileset\n",
    "PrepareDEM.MeanFilter(params, overwrite=True, processes=4, tileset='10k')\n",
    "PrepareDEM.MeanFilter(params, overwrite=True, processes=4, tileset='10kbis')"
   ]
  },
  {
   "cell_type": "code",
   "execution_count": 12,
   "id": "764ab41e-ed90-4b36-bb80-663a2c296cdd",
   "metadata": {
    "tags": []
   },
   "outputs": [],
   "source": [
    "# uncomment below to see an example of the the output tile path\n",
    "# params.output.tilename(row=1, col=1)"
   ]
  },
  {
   "cell_type": "markdown",
   "id": "da61279d-39a5-4c88-8f9a-c28750e11386",
   "metadata": {},
   "source": [
    "Create virtual raster from tiles in shell (optional)"
   ]
  },
  {
   "cell_type": "code",
   "execution_count": 7,
   "id": "8095b5c4-511b-487b-b48b-5997727ed5c0",
   "metadata": {
    "tags": []
   },
   "outputs": [
    {
     "name": "stdout",
     "output_type": "stream",
     "text": [
      "FCT_CONFIG=./config.ini\n",
      "Read configuration from ./config.ini\n",
      "Environment from C:\\Users\\lmanie01\\Documents\\Gitlab\\python-fct\\tutorials\\01-drainage_plan\\.env\n",
      "0...10...20...30...40...50...60...70...80...90...100 - done.\n",
      "FCT_CONFIG=./config.ini\n",
      "Read configuration from ./config.ini\n",
      "Environment from C:\\Users\\lmanie01\\Documents\\Gitlab\\python-fct\\tutorials\\01-drainage_plan\\.env\n",
      "0...10...20...30...40...50...60...70...80...90...100 - done.\n"
     ]
    }
   ],
   "source": [
    "! fct-tiles -c ./config.ini buildvrt 10k smoothed\n",
    "! fct-tiles -c ./config.ini buildvrt 10kbis smoothed"
   ]
  },
  {
   "cell_type": "markdown",
   "id": "8a3ad78a-a6a3-43d9-aad7-4d5dc19c99db",
   "metadata": {},
   "source": [
    "#### Fill sink"
   ]
  },
  {
   "cell_type": "code",
   "execution_count": 12,
   "id": "b8173c83-55b2-44cd-a2c5-1bd7e4c9879b",
   "metadata": {
    "tags": []
   },
   "outputs": [],
   "source": [
    "# import module\n",
    "from fct.drainage import DepressionFill"
   ]
  },
  {
   "cell_type": "code",
   "execution_count": 13,
   "id": "41b90456-3531-4cb4-957f-79940f4c2136",
   "metadata": {
    "tags": []
   },
   "outputs": [],
   "source": [
    "# set parameters\n",
    "params = DepressionFill.Parameters()"
   ]
  },
  {
   "cell_type": "markdown",
   "id": "a0d48525-fe5b-484d-aed7-0a498573c1c9",
   "metadata": {},
   "source": [
    "DepressionFill parameters :\n",
    "\n",
    "- _elevations = input\n",
    "- _hydrography = Stream network derived from cartography draped on DEM **a quoi ça sert?? c'est dans la fonction BurnTile pour creuser le MNT (avec le paramètre offset) avec un réseau hydrographique si cette couche est disponible (sauf que l'emplacement du fichier shp à fournir dans le yml est dans les outputs et non dans les input). J'ai l'impression que ce n'est plus utilisé...**\n",
    "- _filled = output filled DEM tiles define in yml. DEM tiles, depression filling procedure, first pass: individual tile processing\n",
    "- _labels = output watershed label raster tiles define in yml. Watershed labels (depression filling procedure)\n",
    "- _graph = output watershed graph define in yml. Cross-tile watershed connection graph (depression filling procedure)\n",
    "- _spillover = output watershed spillover define in yml. Tile spillovers, z resolution of dem-watershed-graph (depression filling procedure)\n",
    "- _resolved = output final filled DEM tiles define in yml. DEM tiles, depression filling procedure, second pass: cross-tile resolution based on spillover graph\n",
    "- _offset = ? **Est utiliser par la fonction BurnTile pour modifier les donnes du MNT avec le réseau hydrographique, par défault la valeur est de -1, cependant si elle est égale à -1 le réseau est surélevé et non creusé...**\n",
    "- _exterior_data = DEM edge value. Default 9000 to create wall to avoid flow to get out."
   ]
  },
  {
   "cell_type": "code",
   "execution_count": 21,
   "id": "8e262f06-6dbc-4aca-949b-817a131babde",
   "metadata": {
    "tags": []
   },
   "outputs": [],
   "source": [
    "# uncomment below to show default parameters\n",
    "# params.__dict__.items()"
   ]
  },
  {
   "cell_type": "code",
   "execution_count": 15,
   "id": "af80ae40-38a6-46b2-9f61-50ebe7f924ab",
   "metadata": {
    "tags": []
   },
   "outputs": [],
   "source": [
    "# change default parameters\n",
    "params.elevations = 'smoothed'\n",
    "params.exterior_data = 0.0"
   ]
  },
  {
   "cell_type": "code",
   "execution_count": 17,
   "id": "da4eba37-2e34-411c-bbe6-f06517ed8b4a",
   "metadata": {
    "tags": []
   },
   "outputs": [
    {
     "name": "stdout",
     "output_type": "stream",
     "text": [
      "\n",
      "\n",
      "\u001b[36mBuild spillover graph\u001b[0m\n",
      "\n",
      "\u001b[36mResolve Watershed's Minimum Z\u001b[0m\n",
      "\u001b[32mSaved to : ..\\outputs\\GLOBAL\\DEM\\WATERSHED_SPILLOVER_10K.npz\u001b[0m\n",
      "\u001b[36mBuild spillover graph\u001b[0m\n",
      "\n",
      "\u001b[36mResolve Watershed's Minimum Z\u001b[0m\n",
      "\u001b[32mSaved to : ..\\outputs\\GLOBAL\\DEM\\WATERSHED_SPILLOVER_10KBIS.npz\u001b[0m\n",
      "\n",
      "\n"
     ]
    }
   ],
   "source": [
    "# Identifies and numbers the watersheds and continuous areas of the same elevation, with filling in the holes\n",
    "DepressionFill.LabelWatersheds(params, overwrite=True, processes=4, tileset='10k')\n",
    "DepressionFill.LabelWatersheds(params, overwrite=True, processes=4, tileset='10kbis')\n",
    "\n",
    "# Calculates the overflow graph between the different tiles\n",
    "DepressionFill.ResolveWatershedSpillover(params, overwrite=True, tileset='10k')\n",
    "DepressionFill.ResolveWatershedSpillover(params, overwrite=True, tileset='10kbis')\n",
    "\n",
    "# Adjusts the elevation of tile edge depressions, (altitude differential with the overflow point)\n",
    "DepressionFill.DispatchWatershedMinimumZ(params, overwrite=True, processes=4, tileset='10k')\n",
    "DepressionFill.DispatchWatershedMinimumZ(params, overwrite=True, processes=4, tileset='10kbis')"
   ]
  },
  {
   "cell_type": "markdown",
   "id": "a1b5d0bd-b8a6-4ba1-bd94-776db1ff07c4",
   "metadata": {},
   "source": [
    "Create virtual raster from tiles in shell (optional)"
   ]
  },
  {
   "cell_type": "code",
   "execution_count": 18,
   "id": "d1166b0c-e638-4289-8e63-6beb286c280a",
   "metadata": {
    "tags": []
   },
   "outputs": [
    {
     "name": "stdout",
     "output_type": "stream",
     "text": [
      "FCT_CONFIG=./config.ini\n",
      "Read configuration from ./config.ini\n",
      "Environment from C:\\Users\\lmanie01\\Documents\\Gitlab\\python-fct\\tutorials\\01-drainage_plan\\.env\n",
      "0...10...20...30...40...50...60...70...80...90...100 - done.\n",
      "FCT_CONFIG=./config.ini\n",
      "Read configuration from ./config.ini\n",
      "Environment from C:\\Users\\lmanie01\\Documents\\Gitlab\\python-fct\\tutorials\\01-drainage_plan\\.env\n",
      "0...10...20...30...40...50...60...70...80...90...100 - done.\n",
      "FCT_CONFIG=./config.ini\n",
      "Read configuration from ./config.ini\n",
      "Environment from C:\\Users\\lmanie01\\Documents\\Gitlab\\python-fct\\tutorials\\01-drainage_plan\\.env\n",
      "0...10...20...30...40...50...60...70...80...90...100 - done.\n",
      "FCT_CONFIG=./config.ini\n",
      "Read configuration from ./config.ini\n",
      "Environment from C:\\Users\\lmanie01\\Documents\\Gitlab\\python-fct\\tutorials\\01-drainage_plan\\.env\n",
      "0...10...20...30...40...50...60...70...80...90...100 - done.\n",
      "FCT_CONFIG=./config.ini\n",
      "Read configuration from ./config.ini\n",
      "Environment from C:\\Users\\lmanie01\\Documents\\Gitlab\\python-fct\\tutorials\\01-drainage_plan\\.env\n",
      "0...10...20...30...40...50...60...70...80...90...100 - done.\n",
      "FCT_CONFIG=./config.ini\n",
      "Read configuration from ./config.ini\n",
      "Environment from C:\\Users\\lmanie01\\Documents\\Gitlab\\python-fct\\tutorials\\01-drainage_plan\\.env\n",
      "0...10...20...30...40...50...60...70...80...90...100 - done.\n"
     ]
    }
   ],
   "source": [
    "! fct-tiles -c ./config.ini buildvrt 10k dem-watershed-labels\n",
    "! fct-tiles -c ./config.ini buildvrt 10k dem-filled\n",
    "! fct-tiles -c ./config.ini buildvrt 10k dem-filled-resolved\n",
    "\n",
    "! fct-tiles -c ./config.ini buildvrt 10kbis dem-watershed-labels\n",
    "! fct-tiles -c ./config.ini buildvrt 10kbis dem-filled\n",
    "! fct-tiles -c ./config.ini buildvrt 10kbis dem-filled-resolved"
   ]
  },
  {
   "cell_type": "markdown",
   "id": "079f127d-6f47-4506-84d3-6a9411326645",
   "metadata": {
    "tags": []
   },
   "source": [
    "#### Resolve flats"
   ]
  },
  {
   "cell_type": "code",
   "execution_count": 19,
   "id": "a09a470a-4d40-4e3e-adaf-000f23f55e33",
   "metadata": {
    "tags": []
   },
   "outputs": [],
   "source": [
    "# import module\n",
    "from fct.drainage import BorderFlats"
   ]
  },
  {
   "cell_type": "code",
   "execution_count": 20,
   "id": "4c8cc485-35df-44b2-880c-e7c4b6b1c4bf",
   "metadata": {
    "tags": []
   },
   "outputs": [],
   "source": [
    "# set parameters\n",
    "params = BorderFlats.Parameters()"
   ]
  },
  {
   "cell_type": "markdown",
   "id": "4dab245a-4c9a-4bc9-9652-4caed7c673c3",
   "metadata": {},
   "source": [
    "BorderFlats parameters :\n",
    "\n",
    "- _labels = watersheds with labels create in fill sinks step.\n",
    "- _resolved = filled DEM tiles create in fill sinks, depression filling procedure, second pass: cross-tile resolution based on spillover graph\n",
    "- _flat_labels = Flat labels output raster (depression filling procedure)\n",
    "- _flat_graph = Cross-tile flat output connection graph (depression filling procedure)\n",
    "- _flat_spillover = Tile spillovers output, z resolution of dem-flat-graph (depression filling procedure)\n",
    "- _output = BorderFlats output. Filled DEM tiles, depression filling procedure, second pass: cross-tile resolution based on spillover graph"
   ]
  },
  {
   "cell_type": "code",
   "execution_count": 19,
   "id": "51a8da82-776c-4e4f-b10c-648b7e60855a",
   "metadata": {
    "tags": []
   },
   "outputs": [],
   "source": [
    "# uncomment below to show default parameters\n",
    "# params.__dict__.items()"
   ]
  },
  {
   "cell_type": "code",
   "execution_count": 22,
   "id": "1dab5d57-5d3b-4174-886b-2ec67874ae77",
   "metadata": {
    "tags": []
   },
   "outputs": [
    {
     "name": "stdout",
     "output_type": "stream",
     "text": [
      "\n",
      "\n",
      "\u001b[36mBuild Spillover Graph\u001b[0m\n",
      "\n",
      "\u001b[36mResolve Minimum Z\u001b[0m\n",
      "\u001b[36mCalculate Watershed Areas\u001b[0m\n",
      "\n",
      "\u001b[36mEnsure epsilon Gradient : 0.000500 m\u001b[0m\n",
      "\u001b[33mRaised 104 links\u001b[0m\n",
      "\u001b[32mSaved to : ..\\outputs\\GLOBAL\\DEM\\FLAT_SPILLOVER_10K.npz\u001b[0m\n",
      "\u001b[36mBuild Spillover Graph\u001b[0m\n",
      "\n",
      "\u001b[36mResolve Minimum Z\u001b[0m\n",
      "\u001b[36mCalculate Watershed Areas\u001b[0m\n",
      "\n",
      "\u001b[36mEnsure epsilon Gradient : 0.000500 m\u001b[0m\n",
      "\u001b[33mRaised 95 links\u001b[0m\n",
      "\u001b[32mSaved to : ..\\outputs\\GLOBAL\\DEM\\FLAT_SPILLOVER_10KBIS.npz\u001b[0m\n",
      "\n",
      "\n"
     ]
    }
   ],
   "source": [
    "# indentify flat area in previous filled DEM tiles and fix flat border\n",
    "BorderFlats.LabelBorderFlats(params=params, processes=4, tileset='10k') \n",
    "BorderFlats.LabelBorderFlats(params=params, processes=4, tileset='10kbis')\n",
    "\n",
    "BorderFlats.ResolveFlatSpillover(params=params, tileset='10k')\n",
    "BorderFlats.ResolveFlatSpillover(params=params, tileset='10kbis')\n",
    "\n",
    "BorderFlats.DispatchFlatMinimumZ(params=params, overwrite=True, processes=4, tileset='10k')\n",
    "BorderFlats.DispatchFlatMinimumZ(params=params, overwrite=True, processes=4, tileset='10kbis')"
   ]
  },
  {
   "cell_type": "markdown",
   "id": "29812dc1-3707-411d-ae23-e8e9c6bff341",
   "metadata": {},
   "source": [
    "Create virtual raster from tiles in shell (optional)"
   ]
  },
  {
   "cell_type": "code",
   "execution_count": 23,
   "id": "ccb7501c-5ab5-403c-9cbf-b42d2c652964",
   "metadata": {
    "tags": []
   },
   "outputs": [
    {
     "name": "stdout",
     "output_type": "stream",
     "text": [
      "FCT_CONFIG=./config.ini\n",
      "Read configuration from ./config.ini\n",
      "Environment from C:\\Users\\lmanie01\\Documents\\Gitlab\\python-fct\\tutorials\\01-drainage_plan\\.env\n",
      "0...10...20...30...40...50...60...70...80...90...100 - done.\n",
      "FCT_CONFIG=./config.ini\n",
      "Read configuration from ./config.ini\n",
      "Environment from C:\\Users\\lmanie01\\Documents\\Gitlab\\python-fct\\tutorials\\01-drainage_plan\\.env\n",
      "0...10...20...30...40...50...60...70...80...90...100 - done.\n",
      "FCT_CONFIG=./config.ini\n",
      "Read configuration from ./config.ini\n",
      "Environment from C:\\Users\\lmanie01\\Documents\\Gitlab\\python-fct\\tutorials\\01-drainage_plan\\.env\n",
      "0...10...20...30...40...50...60...70...80...90...100 - done.\n",
      "FCT_CONFIG=./config.ini\n",
      "Read configuration from ./config.ini\n",
      "Environment from C:\\Users\\lmanie01\\Documents\\Gitlab\\python-fct\\tutorials\\01-drainage_plan\\.env\n",
      "0...10...20...30...40...50...60...70...80...90...100 - done.\n"
     ]
    }
   ],
   "source": [
    "! fct-tiles -c ./config.ini buildvrt 10k dem-flat-labels\n",
    "! fct-tiles -c ./config.ini buildvrt 10k dem-drainage-resolved\n",
    "\n",
    "! fct-tiles -c ./config.ini buildvrt 10kbis dem-flat-labels\n",
    "! fct-tiles -c ./config.ini buildvrt 10kbis dem-drainage-resolved"
   ]
  },
  {
   "cell_type": "markdown",
   "id": "5d59efee-94e6-4f57-9f4f-b2af1946802e",
   "metadata": {},
   "source": [
    "#### Flow direction"
   ]
  },
  {
   "cell_type": "code",
   "execution_count": 24,
   "id": "8ae4eee4-513d-4990-8822-1225b24ead66",
   "metadata": {
    "tags": []
   },
   "outputs": [],
   "source": [
    "# import module\n",
    "from fct.drainage import FlowDirection"
   ]
  },
  {
   "cell_type": "code",
   "execution_count": 25,
   "id": "10817044-ac09-4939-a0e8-1e8546d2c9be",
   "metadata": {
    "tags": []
   },
   "outputs": [],
   "source": [
    "# set parameters\n",
    "params = FlowDirection.Parameters()"
   ]
  },
  {
   "cell_type": "markdown",
   "id": "827649c2-e3ad-41df-97b5-2a1dbed8e56d",
   "metadata": {},
   "source": [
    "FlowDirection parameters :\n",
    "- _exterior = exterior domain. not found in yml input, should be a shape file to indentify the area out of the DEM and avoid flow to go out of this mask (flow = -1). **utilisé?**\n",
    "- _elevations = filled DEM tiles raster input from Resolve flats step.\n",
    "- _flow = D8 Flow Direction output raster, derived from DEM"
   ]
  },
  {
   "cell_type": "code",
   "execution_count": 43,
   "id": "82289df0-e758-49d8-993b-dae9a506fd41",
   "metadata": {
    "tags": []
   },
   "outputs": [
    {
     "data": {
      "text/plain": [
       "dict_items([('_exterior', 'exterior-domain'), ('_elevations', 'dem-drainage-resolved'), ('_flow', 'flow')])"
      ]
     },
     "execution_count": 43,
     "metadata": {},
     "output_type": "execute_result"
    }
   ],
   "source": [
    "# uncomment below to show default parameters\n",
    "# params.__dict__.items()"
   ]
  },
  {
   "cell_type": "code",
   "execution_count": 26,
   "id": "419d16c5-6a3d-495a-a0d5-90f191a65d3e",
   "metadata": {
    "tags": []
   },
   "outputs": [],
   "source": [
    "# change default parameters\n",
    "# deactivate this parameter, exterior shapefile not define\n",
    "params.exterior = 'off'"
   ]
  },
  {
   "cell_type": "code",
   "execution_count": 27,
   "id": "6ecf5259-f5cc-4add-918f-7aa0505d21f3",
   "metadata": {
    "tags": []
   },
   "outputs": [
    {
     "name": "stdout",
     "output_type": "stream",
     "text": [
      "\n",
      "\n"
     ]
    }
   ],
   "source": [
    "# Calculate flow direction\n",
    "FlowDirection.FlowDirection(params=params, overwrite=True, processes=4, tileset='10k')\n",
    "FlowDirection.FlowDirection(params=params, overwrite=True, processes=4, tileset='10kbis')"
   ]
  },
  {
   "cell_type": "markdown",
   "id": "d07abe93-3ed9-44a0-af4e-fb18b8881648",
   "metadata": {},
   "source": [
    "Create virtual raster from tiles in shell (optional)"
   ]
  },
  {
   "cell_type": "code",
   "execution_count": 28,
   "id": "6a890323-1782-48ad-9801-855af2c09b1d",
   "metadata": {
    "tags": []
   },
   "outputs": [
    {
     "name": "stdout",
     "output_type": "stream",
     "text": [
      "FCT_CONFIG=./config.ini\n",
      "Read configuration from ./config.ini\n",
      "Environment from C:\\Users\\lmanie01\\Documents\\Gitlab\\python-fct\\tutorials\\01-drainage_plan\\.env\n",
      "0...10...20...30...40...50...60...70...80...90...100 - done.\n"
     ]
    }
   ],
   "source": [
    "! fct-tiles -c ./config.ini buildvrt 10k flow"
   ]
  },
  {
   "cell_type": "markdown",
   "id": "4a94bacc-4258-4f00-9639-6ecb6773df0d",
   "metadata": {},
   "source": [
    "#### Flow accumulation"
   ]
  },
  {
   "cell_type": "code",
   "execution_count": 29,
   "id": "f349e21f-839c-42b5-a55f-583e9d13ac10",
   "metadata": {
    "tags": []
   },
   "outputs": [],
   "source": [
    "# import module\n",
    "from fct.drainage import Accumulate"
   ]
  },
  {
   "cell_type": "code",
   "execution_count": 40,
   "id": "5dd6c2c4-9970-4ac1-bf8a-7067f7a0a36a",
   "metadata": {
    "tags": []
   },
   "outputs": [],
   "source": [
    "# set parameters\n",
    "params = Accumulate.Parameters()"
   ]
  },
  {
   "cell_type": "markdown",
   "id": "5935d56b-6add-46e9-8417-b301be895950",
   "metadata": {},
   "source": [
    "Flow accumulation parameters :\n",
    "- _exterior_flow = shapefile to connect outlets flow. **Pas dans le yml ni dans config.ini...**\n",
    "- _elevations = initial raster DEM input\n",
    "- _flow = Flow Direction input raster from flow direction step\n",
    "- _outlets = "
   ]
  },
  {
   "cell_type": "code",
   "execution_count": 31,
   "id": "ea7cc1f3-0356-4338-a7f7-e62e61c80041",
   "metadata": {
    "tags": []
   },
   "outputs": [
    {
     "data": {
      "text/plain": [
       "dict_items([('_exterior_flow', 'off'), ('_elevations', 'dem'), ('_flow', 'flow'), ('_outlets', 'outlets'), ('_outlets_pattern', 'outlets-glob'), ('_inlets', 'inlets'), ('_inlet_areas', 'inlet-areas'), ('_acc', 'acc')])"
      ]
     },
     "execution_count": 31,
     "metadata": {},
     "output_type": "execute_result"
    }
   ],
   "source": [
    "# uncomment below to show default parameters\n",
    "params.__dict__.items()"
   ]
  },
  {
   "cell_type": "code",
   "execution_count": 32,
   "id": "651fd74d-6337-414d-9cf3-721da82ee2f1",
   "metadata": {
    "tags": []
   },
   "outputs": [],
   "source": [
    "# change default parameters\n",
    "params.elevations = 'dem-drainage-resolved'"
   ]
  },
  {
   "cell_type": "code",
   "execution_count": 33,
   "id": "34906c93-ff80-40c6-b4f8-db2248a7db1a",
   "metadata": {
    "tags": []
   },
   "outputs": [
    {
     "name": "stdout",
     "output_type": "stream",
     "text": [
      "\n",
      "\n",
      "\n"
     ]
    },
    {
     "name": "stderr",
     "output_type": "stream",
     "text": [
      "C:\\Users\\lmanie01\\AppData\\Local\\Temp\\ipykernel_12772\\1505093030.py:5: FionaDeprecationWarning: This function will be removed in version 2.0. Please use CRS.from_epsg() instead.\n",
      "  Accumulate.AggregateOutlets(params, tileset='10k')\n"
     ]
    },
    {
     "name": "stdout",
     "output_type": "stream",
     "text": [
      "\n"
     ]
    },
    {
     "name": "stderr",
     "output_type": "stream",
     "text": [
      "C:\\Users\\lmanie01\\AppData\\Local\\Temp\\ipykernel_12772\\1505093030.py:6: FionaDeprecationWarning: This function will be removed in version 2.0. Please use CRS.from_epsg() instead.\n",
      "  Accumulate.AggregateOutlets(params, tileset='10kbis')\n"
     ]
    },
    {
     "name": "stdout",
     "output_type": "stream",
     "text": [
      "\u001b[36mBuild outlets graph\u001b[0m\n",
      "\n",
      "\u001b[32mCreated graph with 52196 nodes\u001b[0m\n",
      "\u001b[36mAccumulate areas\u001b[0m\n",
      "\n",
      "\u001b[36mWrite inlet shapefiles\u001b[0m\n",
      "\n",
      "\u001b[36mBuild outlets graph\u001b[0m\n",
      "\n",
      "\u001b[32mCreated graph with 55850 nodes\u001b[0m\n",
      "\u001b[36mAccumulate areas\u001b[0m\n",
      "\n",
      "\u001b[36mWrite inlet shapefiles\u001b[0m\n",
      "\n",
      "\n",
      "\n"
     ]
    }
   ],
   "source": [
    "# Flow tiles inlets/outlets graph\n",
    "Accumulate.Outlets(params=params, processes=4, tileset='10k')\n",
    "Accumulate.Outlets(params=params, processes=4, tileset='10kbis')\n",
    "\n",
    "Accumulate.AggregateOutlets(params, tileset='10k')\n",
    "Accumulate.AggregateOutlets(params, tileset='10kbis')\n",
    "\n",
    "# Resolve inlets/outlets graph\n",
    "Accumulate.InletAreas(params=params, tileset='10k')\n",
    "Accumulate.InletAreas(params=params, tileset='10kbis')\n",
    "\n",
    "# Flow accumulation\n",
    "Accumulate.FlowAccumulation(params=params, overwrite=True, processes=4, tileset='10k') \n",
    "Accumulate.FlowAccumulation(params=params, overwrite=True, processes=4, tileset='10kbis')"
   ]
  },
  {
   "cell_type": "code",
   "execution_count": 35,
   "id": "23351266-d0aa-4a63-b94b-b8e11732a99e",
   "metadata": {
    "tags": []
   },
   "outputs": [
    {
     "name": "stdout",
     "output_type": "stream",
     "text": [
      "FCT_CONFIG=./config.ini\n",
      "Read configuration from ./config.ini\n",
      "Environment from C:\\Users\\lmanie01\\Documents\\Gitlab\\python-fct\\tutorials\\01-drainage_plan\\.env\n",
      "0...10...20...30...40...50...60...70...80...90...100 - done.\n",
      "FCT_CONFIG=./config.ini\n",
      "Read configuration from ./config.ini\n",
      "Environment from C:\\Users\\lmanie01\\Documents\\Gitlab\\python-fct\\tutorials\\01-drainage_plan\\.env\n",
      "0...10...20...30...40...50...60...70...80...90...100 - done.\n",
      "FCT_CONFIG=./config.ini\n",
      "Read configuration from ./config.ini\n",
      "Environment from C:\\Users\\lmanie01\\Documents\\Gitlab\\python-fct\\tutorials\\01-drainage_plan\\.env\n",
      "0...10...20...30...40...50...60...70...80...90...100 - done.\n",
      "FCT_CONFIG=./config.ini\n",
      "Read configuration from ./config.ini\n",
      "Environment from C:\\Users\\lmanie01\\Documents\\Gitlab\\python-fct\\tutorials\\01-drainage_plan\\.env\n",
      "0...10...20...30...40...50...60...70...80...90...100 - done.\n"
     ]
    }
   ],
   "source": [
    "! fct-tiles -c ./config.ini buildvrt 10k dem-drainage-resolved\n",
    "! fct-tiles -c ./config.ini buildvrt 10kbis dem-drainage-resolved\n",
    "\n",
    "! fct-tiles -c ./config.ini buildvrt 10k acc\n",
    "! fct-tiles -c ./config.ini buildvrt 10kbis acc"
   ]
  },
  {
   "cell_type": "markdown",
   "id": "9a4b8ec6-913e-4444-a47a-21f3cc59cf13",
   "metadata": {},
   "source": [
    "#### Stream network from source"
   ]
  },
  {
   "cell_type": "code",
   "execution_count": 39,
   "id": "b98d98c0-77ac-4c21-813f-222384c25ace",
   "metadata": {
    "tags": []
   },
   "outputs": [],
   "source": [
    "# import module\n",
    "from fct.drainage import StreamSources"
   ]
  },
  {
   "cell_type": "markdown",
   "id": "c16b558a-8cba-4699-bf02-4e4fdaee45d2",
   "metadata": {},
   "source": [
    "**Add parameters for StreamSources**"
   ]
  },
  {
   "cell_type": "code",
   "execution_count": 41,
   "id": "b2f6a741-02ee-48da-a570-0b1a4220a2f3",
   "metadata": {
    "tags": []
   },
   "outputs": [
    {
     "name": "stdout",
     "output_type": "stream",
     "text": [
      "\u001b[36mBuild sources graph\u001b[0m\n",
      "\n",
      "\u001b[32mCreated graph with 52217 nodes\u001b[0m\n",
      "\u001b[36mAccumulate areas\u001b[0m\n",
      "\n",
      "\u001b[36mWrite inlet shapefiles\u001b[0m\n",
      "\n",
      "\u001b[36mBuild sources graph\u001b[0m\n",
      "\n",
      "\u001b[32mCreated graph with 55871 nodes\u001b[0m\n",
      "\u001b[36mAccumulate areas\u001b[0m\n",
      "\n",
      "\u001b[36mWrite inlet shapefiles\u001b[0m\n",
      "\n"
     ]
    }
   ],
   "source": [
    "StreamSources.InletSources(params, tileset='10k')\n",
    "StreamSources.InletSources(params, tileset='10kbis')"
   ]
  },
  {
   "cell_type": "code",
   "execution_count": 42,
   "id": "1feef293-61df-4ebc-916a-e733cd8c676c",
   "metadata": {
    "tags": []
   },
   "outputs": [
    {
     "ename": "AttributeError",
     "evalue": "'Parameters' object has no attribute 'output'",
     "output_type": "error",
     "traceback": [
      "\u001b[1;31m---------------------------------------------------------------------------\u001b[0m",
      "\u001b[1;31mAttributeError\u001b[0m                            Traceback (most recent call last)",
      "Cell \u001b[1;32mIn[42], line 2\u001b[0m\n\u001b[0;32m      1\u001b[0m \u001b[38;5;66;03m# uncomment below to see an example of the the output tile path\u001b[39;00m\n\u001b[1;32m----> 2\u001b[0m \u001b[43mparams\u001b[49m\u001b[38;5;241;43m.\u001b[39;49m\u001b[43moutput\u001b[49m\u001b[38;5;241m.\u001b[39mtilename(row\u001b[38;5;241m=\u001b[39m\u001b[38;5;241m1\u001b[39m, col\u001b[38;5;241m=\u001b[39m\u001b[38;5;241m1\u001b[39m)\n",
      "\u001b[1;31mAttributeError\u001b[0m: 'Parameters' object has no attribute 'output'"
     ]
    }
   ],
   "source": [
    "# uncomment below to see an example of the the output tile path\n",
    "params.output.tilename(row=1, col=1)"
   ]
  },
  {
   "cell_type": "code",
   "execution_count": null,
   "id": "627bc9ba-33ce-47a4-b40a-eccb71bad783",
   "metadata": {},
   "outputs": [],
   "source": []
  },
  {
   "cell_type": "code",
   "execution_count": null,
   "id": "2cd1de67-5515-47ca-a5f0-6ae7c1a99727",
   "metadata": {},
   "outputs": [],
   "source": []
  },
  {
   "cell_type": "code",
   "execution_count": null,
   "id": "7047ac86-6d31-401d-9b8a-da3004566afb",
   "metadata": {},
   "outputs": [],
   "source": []
  },
  {
   "cell_type": "code",
   "execution_count": null,
   "id": "bba73815-10b7-468f-af8b-79a823a8a425",
   "metadata": {},
   "outputs": [],
   "source": []
  },
  {
   "cell_type": "code",
   "execution_count": null,
   "id": "0dae3255-17ee-4521-a201-28f767a43606",
   "metadata": {},
   "outputs": [],
   "source": []
  },
  {
   "cell_type": "markdown",
   "id": "de4833a9-b6ca-4a64-ad74-40ed8cccf0f9",
   "metadata": {},
   "source": [
    "All intermediate virtual raster"
   ]
  },
  {
   "cell_type": "raw",
   "id": "02111041-83d6-439d-b22b-be97d65862bf",
   "metadata": {},
   "source": [
    "fct-tiles -c ./tutorials/dem_to_dgo/config.ini buildvrt 10k smoothed\n",
    "fct-tiles -c ./tutorials/dem_to_dgo/config.ini buildvrt 10k dem-watershed-labels\n",
    "fct-tiles -c ./tutorials/dem_to_dgo/config.ini buildvrt 10k dem-filled\n",
    "fct-tiles -c ./tutorials/dem_to_dgo/config.ini buildvrt 10k dem-filled-resolved\n",
    "fct-tiles -c ./tutorials/dem_to_dgo/config.ini buildvrt 10k dem-flat-labels\n",
    "fct-tiles -c ./tutorials/dem_to_dgo/config.ini buildvrt 10k dem-drainage-resolved\n",
    "fct-tiles -c ./tutorials/dem_to_dgo/config.ini buildvrt 10k flow"
   ]
  }
 ],
 "metadata": {
  "kernelspec": {
   "display_name": "Python 3 (ipykernel)",
   "language": "python",
   "name": "python3"
  },
  "language_info": {
   "codemirror_mode": {
    "name": "ipython",
    "version": 3
   },
   "file_extension": ".py",
   "mimetype": "text/x-python",
   "name": "python",
   "nbconvert_exporter": "python",
   "pygments_lexer": "ipython3",
   "version": "3.8.10"
  }
 },
 "nbformat": 4,
 "nbformat_minor": 5
}
