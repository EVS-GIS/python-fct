{
 "cells": [
  {
   "cell_type": "markdown",
   "id": "4fbb418a-29f2-4908-b4f2-3232d1a8a35e",
   "metadata": {},
   "source": [
    "# Fluvial corridor workflow"
   ]
  },
  {
   "cell_type": "markdown",
   "id": "a6e57800-53a6-45dd-bc2f-654e1dd914dd",
   "metadata": {},
   "source": [
    "## Install GDAL\n",
    "For Windows 10, install GDAL with OSGEO4W\n",
    "\n",
    "[link to installer](https://trac.osgeo.org/osgeo4w/wiki/OSGeo4W_fr)\n",
    "\n",
    "Choose *Express Install* then GDAL.\n",
    "\n",
    "In your user environement variables add C:\\OSGeo4W\\bin to PATH."
   ]
  },
  {
   "cell_type": "markdown",
   "id": "5978cbcb-e7c8-42ad-a16f-393b362954c2",
   "metadata": {},
   "source": [
    "## Set input parameters\n",
    "Create a config.ini file following the example below.\n",
    "\n",
    "```\n",
    "[workspace]\n",
    "\n",
    "    workdir=./path/to/outputs\n",
    "    srs=EPSG:2154\n",
    "\n",
    "[DataSources] ; each datasource are referenced with parameters below\n",
    "\n",
    "    bdalti = BDALTI ; DEM with bigger resolution used to fill no data in finer resolution DEM, tif extent\n",
    "    rgealti = RGEALTI ; reference DEM\n",
    "    sources = SOURCES_BDTOPO ; hydrographic network sources\n",
    "\n",
    "[Tilesets] ; Two overlapping grids are required to tile the calculations. The overlay allows to correct the errors between the junctions of the tiles.\n",
    "    default = 10K_TILESET ; if tileset is define as default the first grid is selected\n",
    "    10k = 10K_TILESET ; first grid\n",
    "    10kbis = 10KBIS_TILESET ; second overlapping grids\n",
    "\n",
    "; \n",
    "; Describe Datasources below wich are reference above in [DataSources] and [Tilesets]\n",
    "; \n",
    "\n",
    "[BDALTI]\n",
    "\n",
    "    type=datasource\n",
    "    data=elevation\n",
    "    filename=./tutorials/dem_to_dgo/inputs/DEM.tif ; relative path to file\n",
    "    resolution=25.0 ; DEM resolution\n",
    "\n",
    "[RGEALTI]\n",
    "\n",
    "    type=datasource\n",
    "    data=elevation\n",
    "    filename=./tutorials/dem_to_dgo/inputs/DEM_5M.tif ; relative path to file\n",
    "    resolution=5.0 ; DEM resolution\n",
    "\n",
    "[SOURCES_BDTOPO]\n",
    "\n",
    "    type = datasource\n",
    "    data = hydrography\n",
    "    filename = ./tutorials/dem_to_dgo/inputs/sources.gpkg ; relative path to file\n",
    "\n",
    "[10K_TILESET]\n",
    "\n",
    "    type=tileset\n",
    "    index=./tutorials/dem_to_dgo/inputs/10k_tileset.gpkg ; relative path to file\n",
    "    height=2000\n",
    "    width=2000\n",
    "    tiledir=10K\n",
    "    resolution=10000.0\n",
    "\n",
    "[10KBIS_TILESET]\n",
    "\n",
    "    type=tileset\n",
    "    index=./tutorials/dem_to_dgo/inputs/10kbis_tileset.gpkg ; relative path to file\n",
    "    height=2000\n",
    "    width=2000\n",
    "    tiledir=10KBIS\n",
    "    resolution=10000.0\n",
    "```"
   ]
  },
  {
   "cell_type": "markdown",
   "id": "6782ec31-ac5b-4c6e-a08d-23d07f9f7f10",
   "metadata": {},
   "source": [
    "Create a .env text file near to this notebook with\n",
    "```FCT_CONFIG=/path/to/config.ini```\n",
    "\n",
    "The outputs folder and name are generated automatically.\n",
    "They are defined in yml files in the config/datasets folder or by tiledir attributes in config.ini section.\n",
    "Activate the virtual environement in shell from the python-fct folder."
   ]
  },
  {
   "cell_type": "code",
   "execution_count": 2,
   "id": "15c52440-29c2-4751-88d4-a6f61fbd8359",
   "metadata": {
    "tags": []
   },
   "outputs": [],
   "source": [
    "# Set number of your computer core for processing parallelization\n",
    "import os\n",
    "core = os.cpu_count()"
   ]
  },
  {
   "cell_type": "code",
   "execution_count": null,
   "id": "5cb54e62-5a70-48f9-98b6-378acaa16404",
   "metadata": {},
   "outputs": [],
   "source": [
    "# Create your tileset\n",
    "\n",
    "from fct.cli import Tiles\n",
    "Tiles.CreateTileset('rgealti', 10000.0)"
   ]
  },
  {
   "cell_type": "code",
   "execution_count": null,
   "id": "0b27b483-3444-48e0-9db0-bd7f8b6c43f3",
   "metadata": {
    "tags": []
   },
   "outputs": [],
   "source": [
    "# Prepare the DEM tiles and VRT\n",
    "\n",
    "from fct.cli import Tiles\n",
    "Tiles.DatasourceToTiles('rgealti', '10k', 'dem', processes=core, overwrite=True)\n",
    "Tiles.DatasourceToTiles('rgealti', '10kbis', 'dem', processes=core, overwrite=True)"
   ]
  },
  {
   "cell_type": "markdown",
   "id": "09bb08dd-1c45-49c9-9a5d-5b6c24a2fd64",
   "metadata": {},
   "source": [
    "Arguments :\n",
    "- bdalti or rgealti = input define in config.ini\n",
    "- 10k = input tile grid define in config.ini\n",
    "- dem = output file define in config/datasets/drainage.yml\n",
    "- processes=core depends on the number of cores in your computer"
   ]
  },
  {
   "cell_type": "code",
   "execution_count": null,
   "id": "361eebb2-01ab-4468-86d7-a4ccfb6b2d12",
   "metadata": {
    "tags": []
   },
   "outputs": [],
   "source": [
    "from fct.tileio import buildvrt\n",
    "buildvrt('10k', 'dem', overwrite=True)\n",
    "buildvrt('10kbis', 'dem', overwrite=True)"
   ]
  },
  {
   "cell_type": "markdown",
   "id": "c8839739-f2e2-404b-8e6f-26b30f03c019",
   "metadata": {},
   "source": [
    "Arguments :\n",
    "- 10k = input tile grid define in config.ini\n",
    "- dem = output file define in config/datasets/drainage.yml"
   ]
  },
  {
   "cell_type": "markdown",
   "id": "51e18449-53eb-4566-8642-1257cda35a4a",
   "metadata": {},
   "source": [
    "If you have two different scales DEM, you can fill the precise one with the less precise\n",
    "A faire en amont du lissage?"
   ]
  },
  {
   "cell_type": "markdown",
   "id": "179fbb82-33af-4a97-a0d6-044e9c22a637",
   "metadata": {},
   "source": [
    "## Create a drainage networks\n",
    "### DEM preparation"
   ]
  },
  {
   "cell_type": "markdown",
   "id": "0d1269b8-4478-4a8d-9cbd-2b5644cb6754",
   "metadata": {},
   "source": [
    "#### DEM smoothing"
   ]
  },
  {
   "cell_type": "code",
   "execution_count": null,
   "id": "5d864289-906f-4c67-b6a1-7025bc48d551",
   "metadata": {
    "tags": []
   },
   "outputs": [],
   "source": [
    "from fct.drainage import PrepareDEM\n",
    "# Prepare the smoothing parameter\n",
    "params = PrepareDEM.SmoothingParameters()"
   ]
  },
  {
   "cell_type": "markdown",
   "id": "48456de2-668e-4362-85b9-9ed43b06114b",
   "metadata": {},
   "source": [
    "smoothing parameters : \n",
    "- elevations = input\n",
    "- output = output smoothed dem\n",
    "- window = smoothing window"
   ]
  },
  {
   "cell_type": "code",
   "execution_count": null,
   "id": "d212bf86-b110-4bb2-a002-e65348c4c175",
   "metadata": {
    "tags": []
   },
   "outputs": [],
   "source": [
    "# change window size (defaut = 5)\n",
    "params.window=5"
   ]
  },
  {
   "cell_type": "code",
   "execution_count": null,
   "id": "53f3fefd-6dc4-42a0-918f-81ab41e7d364",
   "metadata": {
    "tags": []
   },
   "outputs": [],
   "source": [
    "# uncomment below to print other parameters\n",
    "# help(params)"
   ]
  },
  {
   "cell_type": "code",
   "execution_count": null,
   "id": "f6ce6671-2282-4474-8a1f-a6fd2207881a",
   "metadata": {
    "tags": []
   },
   "outputs": [],
   "source": [
    "# Mean filter for each tile of the tileset\n",
    "PrepareDEM.MeanFilter(params, overwrite=True, processes=core, tileset='10k')\n",
    "PrepareDEM.MeanFilter(params, overwrite=True, processes=core, tileset='10kbis')"
   ]
  },
  {
   "cell_type": "code",
   "execution_count": null,
   "id": "764ab41e-ed90-4b36-bb80-663a2c296cdd",
   "metadata": {
    "tags": []
   },
   "outputs": [],
   "source": [
    "# uncomment below to see an example of the the output tile path\n",
    "# params.output.tilename(row=1, col=1)"
   ]
  },
  {
   "cell_type": "code",
   "execution_count": null,
   "id": "0bd6960c-35a1-491c-8441-6ee40c136ebb",
   "metadata": {
    "tags": []
   },
   "outputs": [],
   "source": [
    "# Create virtual rasters for tiles\n",
    "from fct.tileio import buildvrt\n",
    "buildvrt('10k', 'smoothed', overwrite=True)\n",
    "buildvrt('10kbis', 'smoothed', overwrite=True)"
   ]
  },
  {
   "cell_type": "markdown",
   "id": "8a3ad78a-a6a3-43d9-aad7-4d5dc19c99db",
   "metadata": {},
   "source": [
    "#### Fill sink\n",
    "Create a depressionless DEM form each tile before get flow direction"
   ]
  },
  {
   "cell_type": "code",
   "execution_count": null,
   "id": "b8173c83-55b2-44cd-a2c5-1bd7e4c9879b",
   "metadata": {
    "tags": []
   },
   "outputs": [],
   "source": [
    "# import module\n",
    "from fct.drainage import DepressionFill\n",
    "# set parameters\n",
    "params = DepressionFill.Parameters()"
   ]
  },
  {
   "cell_type": "markdown",
   "id": "a0d48525-fe5b-484d-aed7-0a498573c1c9",
   "metadata": {},
   "source": [
    "DepressionFill parameters :\n",
    "\n",
    "- _elevations = input\n",
    "- _hydrography = Stream network derived from cartography draped on DEM **a quoi ça sert?? c'est dans la fonction BurnTile pour creuser le MNT (avec le paramètre offset) avec un réseau hydrographique si cette couche est disponible (sauf que l'emplacement du fichier shp à fournir dans le yml est dans les outputs et non dans les input). J'ai l'impression que ce n'est plus utilisé...**\n",
    "- _filled = output filled DEM tiles define in yml. DEM tiles, depression filling procedure, first pass: individual tile processing\n",
    "- _labels = output watershed label raster tiles define in yml. Watershed labels (depression filling procedure)\n",
    "- _graph = output watershed graph define in yml. Cross-tile watershed connection graph (depression filling procedure)\n",
    "- _spillover = output watershed spillover define in yml. Tile spillovers, z resolution of dem-watershed-graph (depression filling procedure)\n",
    "- _resolved = output final filled DEM tiles define in yml. DEM tiles, depression filling procedure, second pass: cross-tile resolution based on spillover graph\n",
    "- _offset = ? **Est utiliser par la fonction BurnTile pour modifier les donnes du MNT avec le réseau hydrographique, par défault la valeur est de -1, cependant si elle est égale à -1 le réseau est surélevé et non creusé...**\n",
    "- _exterior_data = DEM edge value. Default 9000 to create wall to avoid flow to get out."
   ]
  },
  {
   "cell_type": "code",
   "execution_count": null,
   "id": "8e262f06-6dbc-4aca-949b-817a131babde",
   "metadata": {
    "tags": []
   },
   "outputs": [],
   "source": [
    "# uncomment below to show default parameters\n",
    "# help(params)"
   ]
  },
  {
   "cell_type": "code",
   "execution_count": null,
   "id": "af80ae40-38a6-46b2-9f61-50ebe7f924ab",
   "metadata": {
    "tags": []
   },
   "outputs": [],
   "source": [
    "# change default parameters\n",
    "params.elevations = 'smoothed'\n",
    "# params.exterior_data = 0.0"
   ]
  },
  {
   "cell_type": "code",
   "execution_count": null,
   "id": "da4eba37-2e34-411c-bbe6-f06517ed8b4a",
   "metadata": {
    "tags": []
   },
   "outputs": [],
   "source": [
    "# Identifies and numbers the watersheds and continuous areas of the same elevation, with filling in the holes\n",
    "DepressionFill.LabelWatersheds(params, overwrite=True, processes=core, tileset='10k')\n",
    "DepressionFill.LabelWatersheds(params, overwrite=True, processes=core, tileset='10kbis')\n",
    "\n",
    "# Calculates the overflow graph between the different tiles\n",
    "DepressionFill.ResolveWatershedSpillover(params, overwrite=True, tileset='10k')\n",
    "DepressionFill.ResolveWatershedSpillover(params, overwrite=True, tileset='10kbis')\n",
    "\n",
    "# Adjusts the elevation of tile edge depressions, (altitude differential with the overflow point)\n",
    "DepressionFill.DispatchWatershedMinimumZ(params, overwrite=True, processes=core, tileset='10k')\n",
    "DepressionFill.DispatchWatershedMinimumZ(params, overwrite=True, processes=core, tileset='10kbis')"
   ]
  },
  {
   "cell_type": "code",
   "execution_count": null,
   "id": "da3800c2-b092-4e01-9ef6-32bf225a3bf0",
   "metadata": {
    "tags": []
   },
   "outputs": [],
   "source": [
    "# Create virtual rasters for tiles\n",
    "from fct.tileio import buildvrt\n",
    "buildvrt('10k', 'dem-watershed-labels', overwrite=True)\n",
    "buildvrt('10kbis', 'dem-watershed-labels', overwrite=True)\n",
    "\n",
    "buildvrt('10k', 'dem-filled', overwrite=True)\n",
    "buildvrt('10kbis', 'dem-filled', overwrite=True)\n",
    "\n",
    "buildvrt('10k', 'dem-filled-resolved', overwrite=True)\n",
    "buildvrt('10kbis', 'dem-filled-resolved', overwrite=True)"
   ]
  },
  {
   "cell_type": "markdown",
   "id": "079f127d-6f47-4506-84d3-6a9411326645",
   "metadata": {
    "tags": []
   },
   "source": [
    "#### Resolve flats\n",
    "Resolve flat areas between filled DEM tiles"
   ]
  },
  {
   "cell_type": "code",
   "execution_count": null,
   "id": "a09a470a-4d40-4e3e-adaf-000f23f55e33",
   "metadata": {
    "tags": []
   },
   "outputs": [],
   "source": [
    "# import module\n",
    "from fct.drainage import BorderFlats\n",
    "# set parameters\n",
    "params = BorderFlats.Parameters()"
   ]
  },
  {
   "cell_type": "markdown",
   "id": "4dab245a-4c9a-4bc9-9652-4caed7c673c3",
   "metadata": {},
   "source": [
    "BorderFlats parameters :\n",
    "\n",
    "- _labels = watersheds with labels create in fill sinks step.\n",
    "- _resolved = filled DEM tiles create in fill sinks, depression filling procedure, second pass: cross-tile resolution based on spillover graph\n",
    "- _flat_labels = Flat labels output raster (depression filling procedure)\n",
    "- _flat_graph = Cross-tile flat output connection graph (depression filling procedure)\n",
    "- _flat_spillover = Tile spillovers output, z resolution of dem-flat-graph (depression filling procedure)\n",
    "- _output = BorderFlats output. Filled DEM tiles, depression filling procedure, second pass: cross-tile resolution based on spillover graph"
   ]
  },
  {
   "cell_type": "code",
   "execution_count": null,
   "id": "51a8da82-776c-4e4f-b10c-648b7e60855a",
   "metadata": {
    "tags": []
   },
   "outputs": [],
   "source": [
    "# uncomment below to show default parameters\n",
    "# help(params)"
   ]
  },
  {
   "cell_type": "code",
   "execution_count": null,
   "id": "1dab5d57-5d3b-4174-886b-2ec67874ae77",
   "metadata": {
    "tags": []
   },
   "outputs": [],
   "source": [
    "# Identify flat area in previous filled DEM tiles and fix flat border\n",
    "BorderFlats.LabelBorderFlats(params=params, processes=core, tileset='10k') \n",
    "BorderFlats.LabelBorderFlats(params=params, processes=core, tileset='10kbis')\n",
    "\n",
    "BorderFlats.ResolveFlatSpillover(params=params, tileset='10k')\n",
    "BorderFlats.ResolveFlatSpillover(params=params, tileset='10kbis')\n",
    "\n",
    "# Adjusts the elevation of tile edge depressions, and calculates the depression map (altitude differential with the overflow point)\n",
    "BorderFlats.DispatchFlatMinimumZ(params=params, overwrite=True, processes=core, tileset='10k')\n",
    "BorderFlats.DispatchFlatMinimumZ(params=params, overwrite=True, processes=core, tileset='10kbis')"
   ]
  },
  {
   "cell_type": "code",
   "execution_count": null,
   "id": "812d5a3a-46a4-4b53-9077-7efcb229865a",
   "metadata": {
    "tags": []
   },
   "outputs": [],
   "source": [
    "# Create virtual rasters for tiles\n",
    "from fct.tileio import buildvrt\n",
    "buildvrt('10k', 'dem-flat-labels', overwrite=True)\n",
    "buildvrt('10kbis', 'dem-flat-labels', overwrite=True)\n",
    "\n",
    "buildvrt('10k', 'dem-drainage-resolved', overwrite=True)\n",
    "buildvrt('10kbis', 'dem-drainage-resolved', overwrite=True)"
   ]
  },
  {
   "cell_type": "markdown",
   "id": "5d59efee-94e6-4f57-9f4f-b2af1946802e",
   "metadata": {},
   "source": [
    "### Flow direction"
   ]
  },
  {
   "cell_type": "code",
   "execution_count": null,
   "id": "8ae4eee4-513d-4990-8822-1225b24ead66",
   "metadata": {
    "tags": []
   },
   "outputs": [],
   "source": [
    "# import module\n",
    "from fct.drainage import FlowDirection\n",
    "# set parameters\n",
    "params = FlowDirection.Parameters()"
   ]
  },
  {
   "cell_type": "markdown",
   "id": "827649c2-e3ad-41df-97b5-2a1dbed8e56d",
   "metadata": {},
   "source": [
    "FlowDirection parameters :\n",
    "- _exterior = exterior domain. not found in yml input, should be a shape file to indentify the area out of the DEM and avoid flow to go out of this mask (flow = -1). **utilisé?**\n",
    "- _elevations = filled DEM tiles raster input from Resolve flats step.\n",
    "- _flow = D8 Flow Direction output raster, derived from DEM"
   ]
  },
  {
   "cell_type": "code",
   "execution_count": null,
   "id": "82289df0-e758-49d8-993b-dae9a506fd41",
   "metadata": {
    "tags": []
   },
   "outputs": [],
   "source": [
    "# uncomment below to show default parameters\n",
    "# help(params)"
   ]
  },
  {
   "cell_type": "code",
   "execution_count": null,
   "id": "419d16c5-6a3d-495a-a0d5-90f191a65d3e",
   "metadata": {
    "tags": []
   },
   "outputs": [],
   "source": [
    "# change default parameters\n",
    "# deactivate this parameter, exterior shapefile not define\n",
    "params.exterior = 'off'"
   ]
  },
  {
   "cell_type": "code",
   "execution_count": null,
   "id": "6ecf5259-f5cc-4add-918f-7aa0505d21f3",
   "metadata": {
    "tags": []
   },
   "outputs": [],
   "source": [
    "# Calculate flow direction\n",
    "# Resolve flats drainage direction and calculate D8 flow direction from adjusted elevations.\n",
    "FlowDirection.FlowDirection(params=params, overwrite=True, processes=core, tileset='10k')\n",
    "FlowDirection.FlowDirection(params=params, overwrite=True, processes=core, tileset='10kbis')"
   ]
  },
  {
   "cell_type": "code",
   "execution_count": null,
   "id": "74508c52-a031-4306-8095-dddf9ffa9b1a",
   "metadata": {
    "tags": []
   },
   "outputs": [],
   "source": [
    "# Create virtual rasters for tiles\n",
    "from fct.tileio import buildvrt\n",
    "buildvrt('10k', 'flow', overwrite=True)\n",
    "buildvrt('10kbis', 'flow', overwrite=True)"
   ]
  },
  {
   "cell_type": "markdown",
   "id": "4a94bacc-4258-4f00-9639-6ecb6773df0d",
   "metadata": {},
   "source": [
    "### Flow accumulation"
   ]
  },
  {
   "cell_type": "code",
   "execution_count": null,
   "id": "f349e21f-839c-42b5-a55f-583e9d13ac10",
   "metadata": {
    "tags": []
   },
   "outputs": [],
   "source": [
    "# import module\n",
    "from fct.drainage import Accumulate\n",
    "# set parameters\n",
    "params = Accumulate.Parameters()"
   ]
  },
  {
   "cell_type": "markdown",
   "id": "5935d56b-6add-46e9-8417-b301be895950",
   "metadata": {},
   "source": [
    "Flow accumulation parameters :\n",
    "- _exterior_flow = shapefile to connect outlets flow. **Pas dans le yml ni dans config.ini...**\n",
    "- _elevations = initial raster DEM input\n",
    "- _flow = Flow Direction input raster from flow direction step\n",
    "- _outlets = "
   ]
  },
  {
   "cell_type": "code",
   "execution_count": null,
   "id": "ea7cc1f3-0356-4338-a7f7-e62e61c80041",
   "metadata": {
    "tags": []
   },
   "outputs": [],
   "source": [
    "# uncomment below to show default parameters\n",
    "# help(params)"
   ]
  },
  {
   "cell_type": "code",
   "execution_count": null,
   "id": "651fd74d-6337-414d-9cf3-721da82ee2f1",
   "metadata": {
    "tags": []
   },
   "outputs": [],
   "source": [
    "# change default parameters\n",
    "params.elevations = 'dem-drainage-resolved'"
   ]
  },
  {
   "cell_type": "code",
   "execution_count": null,
   "id": "34906c93-ff80-40c6-b4f8-db2248a7db1a",
   "metadata": {
    "tags": []
   },
   "outputs": [],
   "source": [
    "# Find tile outlets,ie. pixels connecting to anoter tile according to flow direction.\n",
    "Accumulate.Outlets(params=params, processes=core, tileset='10k')\n",
    "Accumulate.Outlets(params=params, processes=core, tileset='10kbis')\n",
    "\n",
    "# Aggregate ROW_COL_INLETS_ORIGIN.geojson files into one ROW_COL_INLETS.shp shapefile\n",
    "Accumulate.AggregateOutlets(params, tileset='10k')\n",
    "Accumulate.AggregateOutlets(params, tileset='10kbis')\n",
    "\n",
    "# Accumulate areas across tiles and output per tile inlet shapefiles with contributing area flowing into tile.\n",
    "Accumulate.InletAreas(params=params, tileset='10k')\n",
    "Accumulate.InletAreas(params=params, tileset='10kbis')\n",
    "\n",
    "# Calculate D8 flow direction tile\n",
    "Accumulate.FlowAccumulation(params=params, overwrite=True, processes=core, tileset='10k') \n",
    "Accumulate.FlowAccumulation(params=params, overwrite=True, processes=core, tileset='10kbis')"
   ]
  },
  {
   "cell_type": "code",
   "execution_count": null,
   "id": "f976a1bf-a29e-4175-bc62-562e9a31d3f8",
   "metadata": {
    "tags": []
   },
   "outputs": [],
   "source": [
    "# Create virtual rasters for tiles\n",
    "from fct.tileio import buildvrt\n",
    "buildvrt('10k', 'acc', overwrite=True)\n",
    "buildvrt('10kbis', 'acc', overwrite=True)"
   ]
  },
  {
   "cell_type": "markdown",
   "id": "9a4b8ec6-913e-4444-a47a-21f3cc59cf13",
   "metadata": {},
   "source": [
    "### Stream network from source"
   ]
  },
  {
   "cell_type": "code",
   "execution_count": null,
   "id": "b98d98c0-77ac-4c21-813f-222384c25ace",
   "metadata": {
    "tags": []
   },
   "outputs": [],
   "source": [
    "# import module\n",
    "from fct.drainage import StreamSources\n",
    "# same parameters as flow accumulation"
   ]
  },
  {
   "cell_type": "markdown",
   "id": "c16b558a-8cba-4699-bf02-4e4fdaee45d2",
   "metadata": {},
   "source": [
    "**Add parameters for StreamSources**"
   ]
  },
  {
   "cell_type": "code",
   "execution_count": null,
   "id": "6edbe103-8468-4921-b26b-421caf8eacb0",
   "metadata": {
    "tags": []
   },
   "outputs": [],
   "source": [
    "StreamSources.InletSources(params, tileset='10k')\n",
    "StreamSources.InletSources(params, tileset='10kbis')\n",
    "\n",
    "StreamSources.StreamToFeatureFromSources(min_drainage=500, processes=core, tileset='10k')\n",
    "StreamSources.StreamToFeatureFromSources(min_drainage=500, processes=core, tileset='10kbis')\n",
    "\n",
    "StreamSources.AggregateStreamsFromSources(tileset='10k')\n",
    "StreamSources.AggregateStreamsFromSources(tileset='10kbis')"
   ]
  },
  {
   "cell_type": "code",
   "execution_count": null,
   "id": "e85645d5-3bde-4b5b-b402-c699b1492b6f",
   "metadata": {
    "tags": []
   },
   "outputs": [],
   "source": [
    "# Create virtual rasters for tiles\n",
    "from fct.tileio import buildvrt\n",
    "buildvrt('10k', 'drainage-raster-from-sources')\n",
    "buildvrt('10kbis', 'drainage-raster-from-sources')"
   ]
  },
  {
   "cell_type": "markdown",
   "id": "94f0d8d9-2477-4b8c-a9b4-a309a039c141",
   "metadata": {},
   "source": [
    "#### Fix no flow"
   ]
  },
  {
   "cell_type": "code",
   "execution_count": null,
   "id": "627bc9ba-33ce-47a4-b40a-eccb71bad783",
   "metadata": {
    "tags": []
   },
   "outputs": [],
   "source": [
    "# Find NoFlow pixels from RHTS\n",
    "from fct.drainage import FixNoFlow\n",
    "params = FixNoFlow.Parameters()"
   ]
  },
  {
   "cell_type": "code",
   "execution_count": null,
   "id": "2cd1de67-5515-47ca-a5f0-6ae7c1a99727",
   "metadata": {
    "tags": []
   },
   "outputs": [],
   "source": [
    "# uncomment below to show default parameters\n",
    "help(params)"
   ]
  },
  {
   "cell_type": "code",
   "execution_count": null,
   "id": "7047ac86-6d31-401d-9b8a-da3004566afb",
   "metadata": {
    "tags": []
   },
   "outputs": [],
   "source": [
    "# change default parameters\n",
    "params.noflow = 'noflow'\n",
    "params.fixed = 'noflow-targets'"
   ]
  },
  {
   "cell_type": "code",
   "execution_count": null,
   "id": "bba73815-10b7-468f-af8b-79a823a8a425",
   "metadata": {
    "tags": []
   },
   "outputs": [],
   "source": [
    "FixNoFlow.DrainageRaster(params=params, processes=core, tileset='10k')\n",
    "FixNoFlow.DrainageRaster(params=params, processes=core, tileset='10kbis')"
   ]
  },
  {
   "cell_type": "code",
   "execution_count": null,
   "id": "fd98a294-daf8-4bf8-8090-61988f8783d9",
   "metadata": {
    "tags": []
   },
   "outputs": [],
   "source": [
    "# Create virtual rasters for tiles\n",
    "from fct.tileio import buildvrt\n",
    "buildvrt('10k', 'drainage-raster-from-sources')\n",
    "buildvrt('10kbis', 'drainage-raster-from-sources')"
   ]
  },
  {
   "cell_type": "code",
   "execution_count": null,
   "id": "014be940-2584-433e-bf83-6267b1d92add",
   "metadata": {
    "tags": []
   },
   "outputs": [],
   "source": [
    "FixNoFlow.NoFlowPixels(params=params, processes=core, tileset='10k')\n",
    "FixNoFlow.NoFlowPixels(params=params, processes=core, tileset='10kbis')"
   ]
  },
  {
   "cell_type": "code",
   "execution_count": null,
   "id": "2a68c298-cdb1-45e6-b004-550f992baf58",
   "metadata": {
    "tags": []
   },
   "outputs": [],
   "source": [
    "FixNoFlow.AggregateNoFlowPixels(params, tileset='10k')\n",
    "FixNoFlow.AggregateNoFlowPixels(params, tileset='10kbis')"
   ]
  },
  {
   "cell_type": "code",
   "execution_count": null,
   "id": "a44ed189-76f2-4726-ac5e-4b026edd69ca",
   "metadata": {
    "tags": []
   },
   "outputs": [],
   "source": [
    "# Fix NoFlow (create TARGETS shapefile and fix Flow Direction data)\n",
    "FixNoFlow.FixNoFlow(params, tileset1='10k', tileset2='10kbis', fix=True)"
   ]
  },
  {
   "cell_type": "code",
   "execution_count": null,
   "id": "9f48f486-f41d-4bf6-8626-18a740878ee7",
   "metadata": {},
   "outputs": [],
   "source": []
  }
 ],
 "metadata": {
  "kernelspec": {
   "display_name": "Python 3 (ipykernel)",
   "language": "python",
   "name": "python3"
  },
  "language_info": {
   "codemirror_mode": {
    "name": "ipython",
    "version": 3
   },
   "file_extension": ".py",
   "mimetype": "text/x-python",
   "name": "python",
   "nbconvert_exporter": "python",
   "pygments_lexer": "ipython3",
   "version": "3.8.10"
  }
 },
 "nbformat": 4,
 "nbformat_minor": 5
}
